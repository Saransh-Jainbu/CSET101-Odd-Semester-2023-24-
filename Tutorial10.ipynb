{
 "cells": [
  {
   "cell_type": "code",
   "execution_count": 2,
   "id": "8269fa27-bf2d-4239-86d0-22cfa2b1f0e2",
   "metadata": {},
   "outputs": [
    {
     "name": "stdout",
     "output_type": "stream",
     "text": [
      "['bay', 'boy']\n"
     ]
    }
   ],
   "source": [
    "### Question 1###\n",
    "words = [\"bay\", \"cat\", \"boy\", \"fan\"]\n",
    "b_words = list(filter(lambda word: word.startswith(\"b\"), words))\n",
    "print(b_words)"
   ]
  },
  {
   "cell_type": "code",
   "execution_count": 6,
   "id": "204c24f9-9425-4670-b4e7-6ab15033f126",
   "metadata": {},
   "outputs": [
    {
     "name": "stdout",
     "output_type": "stream",
     "text": [
      "little\n"
     ]
    }
   ],
   "source": [
    "### Question 2###\n",
    "from functools import reduce\n",
    "\n",
    "words = [\"mary\", \"had\", \"a\", \"little\", \"lamb\"]\n",
    "\n",
    "biggest_word = reduce(lambda x, y: x if len(x) > len(y) else y, words)\n",
    "\n",
    "print(biggest_word)\n"
   ]
  },
  {
   "cell_type": "code",
   "execution_count": 12,
   "id": "682b5c76-905b-4390-bbf7-2187d0d41f3d",
   "metadata": {},
   "outputs": [
    {
     "name": "stdout",
     "output_type": "stream",
     "text": [
      "[1, -2, -3]\n"
     ]
    }
   ],
   "source": [
    "### Question 3 ###\n",
    "l=[1, -2, -3, 4, 51]\n",
    "def f1(x):\n",
    "    return x<2\n",
    "m1=filter(f1, l)\n",
    "print(list(m1))"
   ]
  },
  {
   "cell_type": "code",
   "execution_count": 19,
   "id": "773c6e63-0e08-4d13-9e34-04da02386b49",
   "metadata": {},
   "outputs": [
    {
     "name": "stdout",
     "output_type": "stream",
     "text": [
      "Index and element from the array is 0 Python\n",
      "Index and element from the array is 1 Exceptions\n",
      "Index and element from the array is 2 try and except\n",
      "Index out of range\n"
     ]
    }
   ],
   "source": [
    "### Question 4###\n",
    "a = [\"Python\", \"Exceptions\", \"try and except\"]\n",
    "try:\n",
    "    for i in range( 4 ):\n",
    "     print( \"Index and element from the array is\", i, a[i] )\n",
    "except:\n",
    "    print (\"Index out of range\")"
   ]
  },
  {
   "cell_type": "code",
   "execution_count": 20,
   "id": "dc9f3d8b-87cf-4796-8baa-5ccca31935a6",
   "metadata": {},
   "outputs": [
    {
     "ename": "SyntaxError",
     "evalue": "invalid syntax (2041134791.py, line 7)",
     "output_type": "error",
     "traceback": [
      "\u001b[1;36m  Cell \u001b[1;32mIn[20], line 7\u001b[1;36m\u001b[0m\n\u001b[1;33m    print('Current year is', year) print_current_year()\u001b[0m\n\u001b[1;37m                                   ^\u001b[0m\n\u001b[1;31mSyntaxError\u001b[0m\u001b[1;31m:\u001b[0m invalid syntax\n"
     ]
    }
   ],
   "source": [
    "### Question 6 ###\n",
    "def print_year():\n",
    "    year = 1990\n",
    "    def print_current_year(): \n",
    "        nonlocal year\n",
    "        year += 32\n",
    "        print('Current year is', year) print_current_year()\n",
    "    print_year()\n",
    "    "
   ]
  },
  {
   "cell_type": "code",
   "execution_count": 21,
   "id": "8123716e-cd81-4b6d-8868-c0a4f1b38bc1",
   "metadata": {},
   "outputs": [
    {
     "name": "stdout",
     "output_type": "stream",
     "text": [
      "The code gives a ZeroDivisionError.\n"
     ]
    },
    {
     "ename": "ZeroDivisionError",
     "evalue": "division by zero",
     "output_type": "error",
     "traceback": [
      "\u001b[1;31m---------------------------------------------------------------------------\u001b[0m",
      "\u001b[1;31mZeroDivisionError\u001b[0m                         Traceback (most recent call last)",
      "Cell \u001b[1;32mIn[21], line 6\u001b[0m\n\u001b[0;32m      4\u001b[0m \u001b[38;5;28;01mexcept\u001b[39;00m \u001b[38;5;167;01mZeroDivisionError\u001b[39;00m:\n\u001b[0;32m      5\u001b[0m  \u001b[38;5;28mprint\u001b[39m(\u001b[38;5;124m'\u001b[39m\u001b[38;5;124mThe code gives a ZeroDivisionError.\u001b[39m\u001b[38;5;124m'\u001b[39m)\n\u001b[1;32m----> 6\u001b[0m \u001b[38;5;28mprint\u001b[39m(\u001b[38;5;28;43;01mTrue\u001b[39;49;00m\u001b[38;5;241;43m/\u001b[39;49m\u001b[38;5;28;43;01mFalse\u001b[39;49;00m)\n",
      "\u001b[1;31mZeroDivisionError\u001b[0m: division by zero"
     ]
    }
   ],
   "source": [
    "### Question 7 ###\n",
    "try: \n",
    " True/False\n",
    "except ZeroDivisionError:\n",
    " print('The code gives a ZeroDivisionError.')\n",
    "print(True/False)\n"
   ]
  },
  {
   "cell_type": "code",
   "execution_count": 23,
   "id": "09a10273-bc91-4d08-9801-7f145b2b7d67",
   "metadata": {},
   "outputs": [
    {
     "name": "stdout",
     "output_type": "stream",
     "text": [
      "value is b\n",
      "Oops! <class 'ValueError'> occurred\n",
      "value is 0\n",
      "Oops! <class 'ZeroDivisionError'> occurred\n",
      "value is 1\n"
     ]
    }
   ],
   "source": [
    "### Question 9 ###\n",
    "import sys\n",
    "randomList = ['b', 0, 1]\n",
    "for entry in randomList:\n",
    "    try:\n",
    "        print(\"value is\", entry)\n",
    "        r = 1/int(entry)\n",
    "        break\n",
    "    except Exception as e:\n",
    "        print(\"Oops!\", e.__class__, \"occurred\")"
   ]
  },
  {
   "cell_type": "code",
   "execution_count": 25,
   "id": "7d763bea-4164-40c7-8fe9-a44d9896fec0",
   "metadata": {},
   "outputs": [
    {
     "name": "stdout",
     "output_type": "stream",
     "text": [
      "If there is no locals(), it returns an empty dictionary {}\n",
      "If there is locals(), it returns a dictionary {'program': 'Python'}\n"
     ]
    }
   ],
   "source": [
    "### Question 11###\n",
    "def dict_1(): \n",
    " return locals()\n",
    "def dict_2(): \n",
    " program = 'Python'\n",
    " return locals()\n",
    "print('If there is no locals(), it returns an empty dictionary', dict_1())\n",
    "print('If there is locals(), it returns a dictionary', dict_2())"
   ]
  },
  {
   "cell_type": "code",
   "execution_count": 34,
   "id": "c54955d7-4252-4d15-8599-4ef1bc4262c2",
   "metadata": {},
   "outputs": [
    {
     "ename": "NameError",
     "evalue": "name 'math' is not defined",
     "output_type": "error",
     "traceback": [
      "\u001b[1;31m---------------------------------------------------------------------------\u001b[0m",
      "\u001b[1;31mNameError\u001b[0m                                 Traceback (most recent call last)",
      "Cell \u001b[1;32mIn[34], line 3\u001b[0m\n\u001b[0;32m      1\u001b[0m \u001b[38;5;66;03m### Question 12###\u001b[39;00m\n\u001b[0;32m      2\u001b[0m \u001b[38;5;28;01mfrom\u001b[39;00m \u001b[38;5;21;01mmath\u001b[39;00m \u001b[38;5;28;01mimport\u001b[39;00m factorial\n\u001b[1;32m----> 3\u001b[0m \u001b[38;5;28mprint\u001b[39m(\u001b[43mmath\u001b[49m\u001b[38;5;241m.\u001b[39mfactorial(\u001b[38;5;241m5\u001b[39m))\n",
      "\u001b[1;31mNameError\u001b[0m: name 'math' is not defined"
     ]
    }
   ],
   "source": [
    "### Question 12###\n",
    "from math import factorial\n",
    "print(math.factorial(5))\n"
   ]
  },
  {
   "cell_type": "code",
   "execution_count": 33,
   "id": "0fdcbef3-9f33-43a9-b13b-c9f7e815a632",
   "metadata": {},
   "outputs": [
    {
     "ename": "ModuleNotFoundError",
     "evalue": "No module named 'mod1'",
     "output_type": "error",
     "traceback": [
      "\u001b[1;31m---------------------------------------------------------------------------\u001b[0m",
      "\u001b[1;31mModuleNotFoundError\u001b[0m                       Traceback (most recent call last)",
      "Cell \u001b[1;32mIn[33], line 10\u001b[0m\n\u001b[0;32m      8\u001b[0m  b\u001b[38;5;241m=\u001b[39m[x\u001b[38;5;241m*\u001b[39mx \u001b[38;5;28;01mfor\u001b[39;00m x \u001b[38;5;129;01min\u001b[39;00m a]\n\u001b[0;32m      9\u001b[0m  \u001b[38;5;28mprint\u001b[39m(b)\n\u001b[1;32m---> 10\u001b[0m \u001b[38;5;28;01mfrom\u001b[39;00m \u001b[38;5;21;01mmod1\u001b[39;00m \u001b[38;5;28;01mimport\u001b[39;00m change\n\u001b[0;32m     11\u001b[0m \u001b[38;5;28;01mfrom\u001b[39;00m \u001b[38;5;21;01mmod2\u001b[39;00m \u001b[38;5;28;01mimport\u001b[39;00m change\n\u001b[0;32m     12\u001b[0m \u001b[38;5;66;03m#main\u001b[39;00m\n",
      "\u001b[1;31mModuleNotFoundError\u001b[0m: No module named 'mod1'"
     ]
    }
   ],
   "source": [
    "### Question 13 ###\n",
    "#mod1 module (mod1.py file)\n",
    "def change(a):\n",
    " b=[x*2 for x in a]\n",
    " print(b)\n",
    "#mod2 module (mod2.py file)\n",
    "def change(a):\n",
    " b=[x*x for x in a]\n",
    " print(b)\n",
    "from mod1 import change\n",
    "from mod2 import change\n",
    "#main\n",
    "s=[1,2,3]\n",
    "change(s)\n"
   ]
  },
  {
   "cell_type": "code",
   "execution_count": 32,
   "id": "3e132e3e-c840-4dc9-a884-4c5d6eb06322",
   "metadata": {},
   "outputs": [
    {
     "name": "stdout",
     "output_type": "stream",
     "text": [
      "Takes in a number n, returns the square of n\n"
     ]
    }
   ],
   "source": [
    "### QUESTION 15###\n",
    "def square(n):\n",
    "    '''Takes in a number n, returns the square of n'''\n",
    "    return n**2\n",
    "\n",
    "print(square.__doc__)"
   ]
  },
  {
   "cell_type": "code",
   "execution_count": 37,
   "id": "27ee4fde-4bba-49f4-87f0-94d2eb17b8d4",
   "metadata": {},
   "outputs": [
    {
     "name": "stdout",
     "output_type": "stream",
     "text": [
      "{'__name__': '__main__', '__doc__': 'Automatically created module for IPython interactive environment', '__package__': None, '__loader__': None, '__spec__': None, '__builtin__': <module 'builtins' (built-in)>, '__builtins__': <module 'builtins' (built-in)>, '_ih': ['', 'Go through the below given python code and write the output.\\nwords = [\"bay\", \"cat\", \"boy\", \"fan\"]\\nb_words = list(filter(lambda word: word.startswith(\"b\"), words))\\nprint(b_words)', 'words = [\"bay\", \"cat\", \"boy\", \"fan\"]\\nb_words = list(filter(lambda word: word.startswith(\"b\"), words))\\nprint(b_words)', 'from functools import reduce\\n\\nwords = [\"mary”, \"had\", \"a\", \"little\", \"lamb\"]\\n\\nbiggest_word = reduce(lambda x, y: x if len(x) > len(y) else y,\\nwords)\\n\\nprint(biggest_word)', 'from functools import reduce\\nwords = [\"mary”, \"had\", \"a\", \"little\", \"lamb\"]\\nbiggest_word = reduce(lambda x, y: x if len(x) > len(y) else y,words)\\n\\nprint(biggest_word)', 'from functools import reduce\\n\\nwords = [\"mary\", \"had\", \"a\", \"little\", \"lamb\"]\\n\\nbiggest_word = reduce(lambda x, y: x if len(x) > len(y) else y, words)\\n\\nprint(biggest_word)', '### Question 2###\\nfrom functools import reduce\\n\\nwords = [\"mary\", \"had\", \"a\", \"little\", \"lamb\"]\\n\\nbiggest_word = reduce(lambda x, y: x if len(x) > len(y) else y, words)\\n\\nprint(biggest_word)', '1=r1, -2, -3, 4, 51\\ndef f1(x):\\n    return x<2\\nmi=filter(f1, 1)\\nprint(list(m1))', 'l=r1, -2, -3, 4, 51\\ndef f1(x):\\n    return x<2\\nmi=filter(f1, 1)\\nprint(list(m1))', 'l=r1, -2, -3, 4, 51\\ndef f1(x):\\n    return x<2\\nmi=filter(f1, l)\\nprint(list(m1))', 'l=[1, -2, -3, 4, 51]\\ndef f1(x):\\n    return x<2\\nmi=filter(f1, l)\\nprint(list(m1))', 'l=[1, -2, -3, 4, 51]\\ndef f1(x):\\n    return x<2\\nm1=filter(f1, l)\\nprint(list(m1))', '### Question 3 ###\\nl=[1, -2, -3, 4, 51]\\ndef f1(x):\\n    return x<2\\nm1=filter(f1, l)\\nprint(list(m1))', 'a = [\"Python\", \"Exceptions”, \"try and except”]\\ntry:\\n\\xa0for i in range( 4 ):\\n     print( \"Index and element from the array is\", i, a[i] )\\nexcept:\\nprint (\"Index out of range\")', 'a = [\"Python\", \"Exceptions”, \"try and except”]\\ntry:\\n    for i in range( 4 ):\\n     print( \"Index and element from the array is\", i, a[i] )\\nexcept:\\n    print (\"Index out of range\")', 'a = [\"Python\", \"Exceptions\", \"try and except\"]\\ntry:\\n    for i in range( 4 ):\\n     print( \"Index and element from the array is\", i, a[i] )\\nexcept:\\n    print (\"Index out of range\")', \"def print_year():\\n    year = 1990\\n    def print_current_year(): \\n        nonlocal year\\n        year += 32\\n        print('Current year is', year) print_current_year()\\n    print_year()\", \"def print_year():\\n    year = 1990\\n    def print_current_year(): \\n        nonlocal year\\n        year += 32\\n        print('Current year is', year) print_current_year()\\n    print_year()\\n    \", \"try: \\n True/False\\nexcept ZeroDivisionError:\\n print('The code gives a ZeroDivisionError.')\\nprint(True/False)\", '### Question 4###\\na = [\"Python\", \"Exceptions\", \"try and except\"]\\ntry:\\n    for i in range( 4 ):\\n     print( \"Index and element from the array is\", i, a[i] )\\nexcept:\\n    print (\"Index out of range\")', \"### Question 6 ###\\ndef print_year():\\n    year = 1990\\n    def print_current_year(): \\n        nonlocal year\\n        year += 32\\n        print('Current year is', year) print_current_year()\\n    print_year()\\n    \", \"### Question 7 ###\\ntry: \\n True/False\\nexcept ZeroDivisionError:\\n print('The code gives a ZeroDivisionError.')\\nprint(True/False)\", 'import sys\\nrandomList = [\\'b\\', 0, 1]\\nfor entry in randomList:\\n    try:\\n        print(\"value is\", entry)\\n        r = 1/int(entry)\\n        break\\n    except Exception as e:\\n        print(\"Oops!\", e.__class__, \"occurred\")', '### Question 9 ###\\nimport sys\\nrandomList = [\\'b\\', 0, 1]\\nfor entry in randomList:\\n    try:\\n        print(\"value is\", entry)\\n        r = 1/int(entry)\\n        break\\n    except Exception as e:\\n        print(\"Oops!\", e.__class__, \"occurred\")', \"def dict_1(): \\n return locals()\\ndef dict_2(): \\n program = 'Python'\\n return locals()\\nprint('If there is no locals(), it returns an empty dictionary', dict_1())\\nprint('If there is locals(), it returns a dictionary', dict_2())\", \"### Question 11###\\ndef dict_1(): \\n return locals()\\ndef dict_2(): \\n program = 'Python'\\n return locals()\\nprint('If there is no locals(), it returns an empty dictionary', dict_1())\\nprint('If there is locals(), it returns a dictionary', dict_2())\", 'from math import factorial\\nprint(math.factorial(5))', '#mod1 module (mod1.py file)\\ndef change(a):\\n b=[x*2 for x in a]\\n print(b)\\n#mod2 module (mod2.py file)\\ndef change(a):\\n b=[x*x for x in a]\\n print(b)\\nfrom mod1 import change\\nfrom mod2 import change\\n#main\\ns=[1,2,3]\\nchange(s)', \"def square(n):\\n'''Takes in a number n, returns the square of n'''\\n return n**2\\n\\nprint(square.__doc__)\", \"def square(n):\\n    '''Takes in a number n, returns the square of n'''\\n return n**2\\n\\nprint(square.__doc__)\", \"def square(n):\\n    '''Takes in a number n, returns the square of n'''\\n    return n**2\\n\\nprint(square.__doc__)\", \"### QUESTION 15###\\ndef square(n):\\n    '''Takes in a number n, returns the square of n'''\\n    return n**2\\n\\nprint(square.__doc__)\", '### Question 13 ###\\n#mod1 module (mod1.py file)\\ndef change(a):\\n b=[x*2 for x in a]\\n print(b)\\n#mod2 module (mod2.py file)\\ndef change(a):\\n b=[x*x for x in a]\\n print(b)\\nfrom mod1 import change\\nfrom mod2 import change\\n#main\\ns=[1,2,3]\\nchange(s)', '### Question 12###\\nfrom math import factorial\\nprint(math.factorial(5))', \"def fun():\\n    a=45\\n    global b\\n    b=6.28\\n    print(locals())\\n    print(globals())\\na=20\\nb=3.14\\ns = 'python programming’\\nprint(locals())\", \"def fun():\\n    a=45\\n    global b\\n    b=6.28\\n    print(locals())\\n    print(globals())\\na=20\\nb=3.14\\ns = 'python programming'\\nprint(locals())\", \"### Question 16##\\ndef fun():\\n    a=45\\n    global b\\n    b=6.28\\n    print(locals())\\n    print(globals())\\na=20\\nb=3.14\\ns = 'python programming'\\nprint(locals())\"], '_oh': {}, '_dh': [WindowsPath('C:/Users/Saransh Jain')], 'In': ['', 'Go through the below given python code and write the output.\\nwords = [\"bay\", \"cat\", \"boy\", \"fan\"]\\nb_words = list(filter(lambda word: word.startswith(\"b\"), words))\\nprint(b_words)', 'words = [\"bay\", \"cat\", \"boy\", \"fan\"]\\nb_words = list(filter(lambda word: word.startswith(\"b\"), words))\\nprint(b_words)', 'from functools import reduce\\n\\nwords = [\"mary”, \"had\", \"a\", \"little\", \"lamb\"]\\n\\nbiggest_word = reduce(lambda x, y: x if len(x) > len(y) else y,\\nwords)\\n\\nprint(biggest_word)', 'from functools import reduce\\nwords = [\"mary”, \"had\", \"a\", \"little\", \"lamb\"]\\nbiggest_word = reduce(lambda x, y: x if len(x) > len(y) else y,words)\\n\\nprint(biggest_word)', 'from functools import reduce\\n\\nwords = [\"mary\", \"had\", \"a\", \"little\", \"lamb\"]\\n\\nbiggest_word = reduce(lambda x, y: x if len(x) > len(y) else y, words)\\n\\nprint(biggest_word)', '### Question 2###\\nfrom functools import reduce\\n\\nwords = [\"mary\", \"had\", \"a\", \"little\", \"lamb\"]\\n\\nbiggest_word = reduce(lambda x, y: x if len(x) > len(y) else y, words)\\n\\nprint(biggest_word)', '1=r1, -2, -3, 4, 51\\ndef f1(x):\\n    return x<2\\nmi=filter(f1, 1)\\nprint(list(m1))', 'l=r1, -2, -3, 4, 51\\ndef f1(x):\\n    return x<2\\nmi=filter(f1, 1)\\nprint(list(m1))', 'l=r1, -2, -3, 4, 51\\ndef f1(x):\\n    return x<2\\nmi=filter(f1, l)\\nprint(list(m1))', 'l=[1, -2, -3, 4, 51]\\ndef f1(x):\\n    return x<2\\nmi=filter(f1, l)\\nprint(list(m1))', 'l=[1, -2, -3, 4, 51]\\ndef f1(x):\\n    return x<2\\nm1=filter(f1, l)\\nprint(list(m1))', '### Question 3 ###\\nl=[1, -2, -3, 4, 51]\\ndef f1(x):\\n    return x<2\\nm1=filter(f1, l)\\nprint(list(m1))', 'a = [\"Python\", \"Exceptions”, \"try and except”]\\ntry:\\n\\xa0for i in range( 4 ):\\n     print( \"Index and element from the array is\", i, a[i] )\\nexcept:\\nprint (\"Index out of range\")', 'a = [\"Python\", \"Exceptions”, \"try and except”]\\ntry:\\n    for i in range( 4 ):\\n     print( \"Index and element from the array is\", i, a[i] )\\nexcept:\\n    print (\"Index out of range\")', 'a = [\"Python\", \"Exceptions\", \"try and except\"]\\ntry:\\n    for i in range( 4 ):\\n     print( \"Index and element from the array is\", i, a[i] )\\nexcept:\\n    print (\"Index out of range\")', \"def print_year():\\n    year = 1990\\n    def print_current_year(): \\n        nonlocal year\\n        year += 32\\n        print('Current year is', year) print_current_year()\\n    print_year()\", \"def print_year():\\n    year = 1990\\n    def print_current_year(): \\n        nonlocal year\\n        year += 32\\n        print('Current year is', year) print_current_year()\\n    print_year()\\n    \", \"try: \\n True/False\\nexcept ZeroDivisionError:\\n print('The code gives a ZeroDivisionError.')\\nprint(True/False)\", '### Question 4###\\na = [\"Python\", \"Exceptions\", \"try and except\"]\\ntry:\\n    for i in range( 4 ):\\n     print( \"Index and element from the array is\", i, a[i] )\\nexcept:\\n    print (\"Index out of range\")', \"### Question 6 ###\\ndef print_year():\\n    year = 1990\\n    def print_current_year(): \\n        nonlocal year\\n        year += 32\\n        print('Current year is', year) print_current_year()\\n    print_year()\\n    \", \"### Question 7 ###\\ntry: \\n True/False\\nexcept ZeroDivisionError:\\n print('The code gives a ZeroDivisionError.')\\nprint(True/False)\", 'import sys\\nrandomList = [\\'b\\', 0, 1]\\nfor entry in randomList:\\n    try:\\n        print(\"value is\", entry)\\n        r = 1/int(entry)\\n        break\\n    except Exception as e:\\n        print(\"Oops!\", e.__class__, \"occurred\")', '### Question 9 ###\\nimport sys\\nrandomList = [\\'b\\', 0, 1]\\nfor entry in randomList:\\n    try:\\n        print(\"value is\", entry)\\n        r = 1/int(entry)\\n        break\\n    except Exception as e:\\n        print(\"Oops!\", e.__class__, \"occurred\")', \"def dict_1(): \\n return locals()\\ndef dict_2(): \\n program = 'Python'\\n return locals()\\nprint('If there is no locals(), it returns an empty dictionary', dict_1())\\nprint('If there is locals(), it returns a dictionary', dict_2())\", \"### Question 11###\\ndef dict_1(): \\n return locals()\\ndef dict_2(): \\n program = 'Python'\\n return locals()\\nprint('If there is no locals(), it returns an empty dictionary', dict_1())\\nprint('If there is locals(), it returns a dictionary', dict_2())\", 'from math import factorial\\nprint(math.factorial(5))', '#mod1 module (mod1.py file)\\ndef change(a):\\n b=[x*2 for x in a]\\n print(b)\\n#mod2 module (mod2.py file)\\ndef change(a):\\n b=[x*x for x in a]\\n print(b)\\nfrom mod1 import change\\nfrom mod2 import change\\n#main\\ns=[1,2,3]\\nchange(s)', \"def square(n):\\n'''Takes in a number n, returns the square of n'''\\n return n**2\\n\\nprint(square.__doc__)\", \"def square(n):\\n    '''Takes in a number n, returns the square of n'''\\n return n**2\\n\\nprint(square.__doc__)\", \"def square(n):\\n    '''Takes in a number n, returns the square of n'''\\n    return n**2\\n\\nprint(square.__doc__)\", \"### QUESTION 15###\\ndef square(n):\\n    '''Takes in a number n, returns the square of n'''\\n    return n**2\\n\\nprint(square.__doc__)\", '### Question 13 ###\\n#mod1 module (mod1.py file)\\ndef change(a):\\n b=[x*2 for x in a]\\n print(b)\\n#mod2 module (mod2.py file)\\ndef change(a):\\n b=[x*x for x in a]\\n print(b)\\nfrom mod1 import change\\nfrom mod2 import change\\n#main\\ns=[1,2,3]\\nchange(s)', '### Question 12###\\nfrom math import factorial\\nprint(math.factorial(5))', \"def fun():\\n    a=45\\n    global b\\n    b=6.28\\n    print(locals())\\n    print(globals())\\na=20\\nb=3.14\\ns = 'python programming’\\nprint(locals())\", \"def fun():\\n    a=45\\n    global b\\n    b=6.28\\n    print(locals())\\n    print(globals())\\na=20\\nb=3.14\\ns = 'python programming'\\nprint(locals())\", \"### Question 16##\\ndef fun():\\n    a=45\\n    global b\\n    b=6.28\\n    print(locals())\\n    print(globals())\\na=20\\nb=3.14\\ns = 'python programming'\\nprint(locals())\"], 'Out': {}, 'get_ipython': <bound method InteractiveShell.get_ipython of <ipykernel.zmqshell.ZMQInteractiveShell object at 0x0000013870198250>>, 'exit': <IPython.core.autocall.ZMQExitAutocall object at 0x000001387019BE50>, 'quit': <IPython.core.autocall.ZMQExitAutocall object at 0x000001387019BE50>, 'open': <function open at 0x000001386DBD3D80>, '_': '', '__': '', '___': '', '__session__': 'C:\\\\Users\\\\Saransh Jain\\\\Untitled10.ipynb', '_i': \"def fun():\\n    a=45\\n    global b\\n    b=6.28\\n    print(locals())\\n    print(globals())\\na=20\\nb=3.14\\ns = 'python programming'\\nprint(locals())\", '_ii': \"def fun():\\n    a=45\\n    global b\\n    b=6.28\\n    print(locals())\\n    print(globals())\\na=20\\nb=3.14\\ns = 'python programming’\\nprint(locals())\", '_iii': '### Question 12###\\nfrom math import factorial\\nprint(math.factorial(5))', '_i1': 'Go through the below given python code and write the output.\\nwords = [\"bay\", \"cat\", \"boy\", \"fan\"]\\nb_words = list(filter(lambda word: word.startswith(\"b\"), words))\\nprint(b_words)', '_i2': 'words = [\"bay\", \"cat\", \"boy\", \"fan\"]\\nb_words = list(filter(lambda word: word.startswith(\"b\"), words))\\nprint(b_words)', 'words': ['mary', 'had', 'a', 'little', 'lamb'], 'b_words': ['bay', 'boy'], '_i3': 'from functools import reduce\\n\\nwords = [\"mary”, \"had\", \"a\", \"little\", \"lamb\"]\\n\\nbiggest_word = reduce(lambda x, y: x if len(x) > len(y) else y,\\nwords)\\n\\nprint(biggest_word)', '_i4': 'from functools import reduce\\nwords = [\"mary”, \"had\", \"a\", \"little\", \"lamb\"]\\nbiggest_word = reduce(lambda x, y: x if len(x) > len(y) else y,words)\\n\\nprint(biggest_word)', '_i5': 'from functools import reduce\\n\\nwords = [\"mary\", \"had\", \"a\", \"little\", \"lamb\"]\\n\\nbiggest_word = reduce(lambda x, y: x if len(x) > len(y) else y, words)\\n\\nprint(biggest_word)', 'reduce': <built-in function reduce>, 'biggest_word': 'little', '_i6': '### Question 2###\\nfrom functools import reduce\\n\\nwords = [\"mary\", \"had\", \"a\", \"little\", \"lamb\"]\\n\\nbiggest_word = reduce(lambda x, y: x if len(x) > len(y) else y, words)\\n\\nprint(biggest_word)', '_i7': '1=r1, -2, -3, 4, 51\\ndef f1(x):\\n    return x<2\\nmi=filter(f1, 1)\\nprint(list(m1))', '_i8': 'l=r1, -2, -3, 4, 51\\ndef f1(x):\\n    return x<2\\nmi=filter(f1, 1)\\nprint(list(m1))', '_i9': 'l=r1, -2, -3, 4, 51\\ndef f1(x):\\n    return x<2\\nmi=filter(f1, l)\\nprint(list(m1))', '_i10': 'l=[1, -2, -3, 4, 51]\\ndef f1(x):\\n    return x<2\\nmi=filter(f1, l)\\nprint(list(m1))', 'l': [1, -2, -3, 4, 51], 'f1': <function f1 at 0x00000138702A0360>, 'mi': <filter object at 0x0000013870181C00>, '_i11': 'l=[1, -2, -3, 4, 51]\\ndef f1(x):\\n    return x<2\\nm1=filter(f1, l)\\nprint(list(m1))', 'm1': <filter object at 0x000001387034B310>, '_i12': '### Question 3 ###\\nl=[1, -2, -3, 4, 51]\\ndef f1(x):\\n    return x<2\\nm1=filter(f1, l)\\nprint(list(m1))', '_i13': 'a = [\"Python\", \"Exceptions”, \"try and except”]\\ntry:\\n\\xa0for i in range( 4 ):\\n     print( \"Index and element from the array is\", i, a[i] )\\nexcept:\\nprint (\"Index out of range\")', '_i14': 'a = [\"Python\", \"Exceptions”, \"try and except”]\\ntry:\\n    for i in range( 4 ):\\n     print( \"Index and element from the array is\", i, a[i] )\\nexcept:\\n    print (\"Index out of range\")', '_i15': 'a = [\"Python\", \"Exceptions\", \"try and except\"]\\ntry:\\n    for i in range( 4 ):\\n     print( \"Index and element from the array is\", i, a[i] )\\nexcept:\\n    print (\"Index out of range\")', 'a': 20, 'i': 3, '_i16': \"def print_year():\\n    year = 1990\\n    def print_current_year(): \\n        nonlocal year\\n        year += 32\\n        print('Current year is', year) print_current_year()\\n    print_year()\", '_i17': \"def print_year():\\n    year = 1990\\n    def print_current_year(): \\n        nonlocal year\\n        year += 32\\n        print('Current year is', year) print_current_year()\\n    print_year()\\n    \", '_i18': \"try: \\n True/False\\nexcept ZeroDivisionError:\\n print('The code gives a ZeroDivisionError.')\\nprint(True/False)\", '_i19': '### Question 4###\\na = [\"Python\", \"Exceptions\", \"try and except\"]\\ntry:\\n    for i in range( 4 ):\\n     print( \"Index and element from the array is\", i, a[i] )\\nexcept:\\n    print (\"Index out of range\")', '_i20': \"### Question 6 ###\\ndef print_year():\\n    year = 1990\\n    def print_current_year(): \\n        nonlocal year\\n        year += 32\\n        print('Current year is', year) print_current_year()\\n    print_year()\\n    \", '_i21': \"### Question 7 ###\\ntry: \\n True/False\\nexcept ZeroDivisionError:\\n print('The code gives a ZeroDivisionError.')\\nprint(True/False)\", '_i22': 'import sys\\nrandomList = [\\'b\\', 0, 1]\\nfor entry in randomList:\\n    try:\\n        print(\"value is\", entry)\\n        r = 1/int(entry)\\n        break\\n    except Exception as e:\\n        print(\"Oops!\", e.__class__, \"occurred\")', 'sys': <module 'sys' (built-in)>, 'randomList': ['b', 0, 1], 'entry': 1, 'r': 1.0, '_i23': '### Question 9 ###\\nimport sys\\nrandomList = [\\'b\\', 0, 1]\\nfor entry in randomList:\\n    try:\\n        print(\"value is\", entry)\\n        r = 1/int(entry)\\n        break\\n    except Exception as e:\\n        print(\"Oops!\", e.__class__, \"occurred\")', '_i24': \"def dict_1(): \\n return locals()\\ndef dict_2(): \\n program = 'Python'\\n return locals()\\nprint('If there is no locals(), it returns an empty dictionary', dict_1())\\nprint('If there is locals(), it returns a dictionary', dict_2())\", 'dict_1': <function dict_1 at 0x00000138702A34C0>, 'dict_2': <function dict_2 at 0x00000138702A19E0>, '_i25': \"### Question 11###\\ndef dict_1(): \\n return locals()\\ndef dict_2(): \\n program = 'Python'\\n return locals()\\nprint('If there is no locals(), it returns an empty dictionary', dict_1())\\nprint('If there is locals(), it returns a dictionary', dict_2())\", '_i26': 'from math import factorial\\nprint(math.factorial(5))', 'factorial': <built-in function factorial>, '_i27': '#mod1 module (mod1.py file)\\ndef change(a):\\n b=[x*2 for x in a]\\n print(b)\\n#mod2 module (mod2.py file)\\ndef change(a):\\n b=[x*x for x in a]\\n print(b)\\nfrom mod1 import change\\nfrom mod2 import change\\n#main\\ns=[1,2,3]\\nchange(s)', 'change': <function change at 0x000001387085CE00>, '_i28': \"def square(n):\\n'''Takes in a number n, returns the square of n'''\\n return n**2\\n\\nprint(square.__doc__)\", '_i29': \"def square(n):\\n    '''Takes in a number n, returns the square of n'''\\n return n**2\\n\\nprint(square.__doc__)\", '_i31': \"def square(n):\\n    '''Takes in a number n, returns the square of n'''\\n    return n**2\\n\\nprint(square.__doc__)\", 'square': <function square at 0x00000138707AAE80>, '_i32': \"### QUESTION 15###\\ndef square(n):\\n    '''Takes in a number n, returns the square of n'''\\n    return n**2\\n\\nprint(square.__doc__)\", '_i33': '### Question 13 ###\\n#mod1 module (mod1.py file)\\ndef change(a):\\n b=[x*2 for x in a]\\n print(b)\\n#mod2 module (mod2.py file)\\ndef change(a):\\n b=[x*x for x in a]\\n print(b)\\nfrom mod1 import change\\nfrom mod2 import change\\n#main\\ns=[1,2,3]\\nchange(s)', '_i34': '### Question 12###\\nfrom math import factorial\\nprint(math.factorial(5))', '_i35': \"def fun():\\n    a=45\\n    global b\\n    b=6.28\\n    print(locals())\\n    print(globals())\\na=20\\nb=3.14\\ns = 'python programming’\\nprint(locals())\", '_i36': \"def fun():\\n    a=45\\n    global b\\n    b=6.28\\n    print(locals())\\n    print(globals())\\na=20\\nb=3.14\\ns = 'python programming'\\nprint(locals())\", 'fun': <function fun at 0x00000138712709A0>, 'b': 3.14, 's': 'python programming', '_i37': \"### Question 16##\\ndef fun():\\n    a=45\\n    global b\\n    b=6.28\\n    print(locals())\\n    print(globals())\\na=20\\nb=3.14\\ns = 'python programming'\\nprint(locals())\"}\n"
     ]
    }
   ],
   "source": [
    "### Question 16##\n",
    "def fun():\n",
    "    a=45\n",
    "    global b\n",
    "    b=6.28\n",
    "    print(locals())\n",
    "    print(globals())\n",
    "a=20\n",
    "b=3.14\n",
    "s = 'python programming'\n",
    "print(locals())"
   ]
  },
  {
   "cell_type": "code",
   "execution_count": null,
   "id": "194854c6-b4a6-4ea1-b1f6-d253586605ad",
   "metadata": {},
   "outputs": [],
   "source": []
  }
 ],
 "metadata": {
  "kernelspec": {
   "display_name": "Python 3 (ipykernel)",
   "language": "python",
   "name": "python3"
  },
  "language_info": {
   "codemirror_mode": {
    "name": "ipython",
    "version": 3
   },
   "file_extension": ".py",
   "mimetype": "text/x-python",
   "name": "python",
   "nbconvert_exporter": "python",
   "pygments_lexer": "ipython3",
   "version": "3.11.4"
  }
 },
 "nbformat": 4,
 "nbformat_minor": 5
}
