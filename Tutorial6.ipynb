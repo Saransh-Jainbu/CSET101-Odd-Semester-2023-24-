{
 "cells": [
  {
   "cell_type": "code",
   "execution_count": 5,
   "id": "5638d413-2fc2-41b9-90b8-42d099cb34a4",
   "metadata": {},
   "outputs": [
    {
     "name": "stdout",
     "output_type": "stream",
     "text": [
      "[42, 'Hello, World!', 3.14, [1, 2, 3, 4, 5], ('apple', 'banana', 'cherry')]\n"
     ]
    }
   ],
   "source": [
    "## Question 1\n",
    "data_elements = [42, \"Hello, World!\", 3.14, [1, 2, 3, 4, 5], (\"apple\", \"banana\", \"cherry\")]\n",
    "\n",
    "# You can print the list to verify its contents\n",
    "print(data_elements)\n"
   ]
  },
  {
   "cell_type": "code",
   "execution_count": 6,
   "id": "5f070d1c-3d44-4013-b919-ca4953e97b20",
   "metadata": {},
   "outputs": [
    {
     "name": "stdout",
     "output_type": "stream",
     "text": [
      "5\n"
     ]
    }
   ],
   "source": [
    "## Question 2\n",
    "\n",
    "nested_list = [[1, 2, 3], [4, 5, 6], [7, 8, 9]]\n",
    "number_5 = nested_list[1][1]\n",
    "print(number_5)"
   ]
  },
  {
   "cell_type": "code",
   "execution_count": 14,
   "id": "37138b69-49dd-4d2e-96a5-a9d50ea93859",
   "metadata": {},
   "outputs": [
    {
     "name": "stdout",
     "output_type": "stream",
     "text": [
      "['apple', 'banana', 'cherry', 'grape', 'orange']\n"
     ]
    }
   ],
   "source": [
    "### Question 3\n",
    "list=['apple', 'banana', 'cherry']\n",
    "list.append( 'grape')\n",
    "list.append('orange')\n",
    "print(list)"
   ]
  },
  {
   "cell_type": "code",
   "execution_count": 23,
   "id": "a0a2e964-4c47-4022-b75f-648de696d540",
   "metadata": {},
   "outputs": [
    {
     "name": "stdout",
     "output_type": "stream",
     "text": [
      "[2, 3, 4]\n"
     ]
    }
   ],
   "source": [
    "### Question 4\n",
    "list = [0, 1, 2, 3, 4, 5]\n",
    "b=list[2:5]\n",
    "print(b)"
   ]
  },
  {
   "cell_type": "code",
   "execution_count": 28,
   "id": "85ce45d0-fc5b-4c2c-97fe-b461cd89bd4a",
   "metadata": {},
   "outputs": [
    {
     "name": "stdout",
     "output_type": "stream",
     "text": [
      "[1, 2, 4, 3, 5]\n"
     ]
    }
   ],
   "source": [
    "### Question 5\n",
    "list=[1, 2, 3, 4, 3, 5]\n",
    "list.remove(3)\n",
    "print(list)"
   ]
  },
  {
   "cell_type": "code",
   "execution_count": 29,
   "id": "03a921dc-e06c-4d79-9bea-ddd21cb4ba87",
   "metadata": {},
   "outputs": [
    {
     "name": "stdout",
     "output_type": "stream",
     "text": [
      "[1, 4, 9, 16, 25, 36, 49, 64, 81, 100]\n"
     ]
    }
   ],
   "source": [
    "### Question 6\n",
    "\n",
    "squares = [x**2 for x in range(1, 11)]\n",
    "\n",
    "# Print the list of squares\n",
    "print(squares)\n"
   ]
  },
  {
   "cell_type": "code",
   "execution_count": 3,
   "id": "a7ce033d-79f9-4259-95fb-7ba7632f4431",
   "metadata": {},
   "outputs": [
    {
     "name": "stdout",
     "output_type": "stream",
     "text": [
      "[2, 4, 6, 8, 10, 12, 14, 16, 18, 20]\n"
     ]
    }
   ],
   "source": [
    "### Question 7\n",
    "even_numbers = [num for num in range(1, 21) if num % 2 == 0]\n",
    "print(even_numbers)"
   ]
  },
  {
   "cell_type": "code",
   "execution_count": 5,
   "id": "7ac5e0bd-9fd5-4347-8c28-b86ee0ee4ea3",
   "metadata": {},
   "outputs": [
    {
     "name": "stdout",
     "output_type": "stream",
     "text": [
      "[1, 2, 3, 4, 5, 6, 7, 8, 9]\n"
     ]
    }
   ],
   "source": [
    "## Question 8\n",
    "matrix = [[1, 2, 3], [4, 5, 6], [7, 8, 9]]\n",
    "\n",
    "flattened_list = [element for row in matrix for element in row]\n",
    "print(flattened_list)\n"
   ]
  },
  {
   "cell_type": "code",
   "execution_count": 6,
   "id": "5d6cca90-b17a-403c-97a8-a5a453b5ebf3",
   "metadata": {},
   "outputs": [
    {
     "name": "stdout",
     "output_type": "stream",
     "text": [
      "5 is not present in the list.\n"
     ]
    }
   ],
   "source": [
    "### Question 9\n",
    "my_list = [1, 2, 3, 4, 6, 7]\n",
    "\n",
    "if 5 in my_list:\n",
    "    print(\"5 is present in the list.\")\n",
    "else:\n",
    "    print(\"5 is not present in the list.\")\n"
   ]
  },
  {
   "cell_type": "code",
   "execution_count": 7,
   "id": "4efa0d11-3b6a-40b2-bee9-c59faf1fc1d0",
   "metadata": {},
   "outputs": [
    {
     "name": "stdout",
     "output_type": "stream",
     "text": [
      "Index: 0, Value: a\n",
      "Index: 1, Value: b\n",
      "Index: 2, Value: c\n",
      "Index: 3, Value: d\n"
     ]
    }
   ],
   "source": [
    "#### Question 10\n",
    "my_list = ['a', 'b', 'c', 'd']\n",
    "\n",
    "for index, value in enumerate(my_list):\n",
    "    print(f\"Index: {index}, Value: {value}\")\n"
   ]
  },
  {
   "cell_type": "code",
   "execution_count": 8,
   "id": "760ece8b-9333-44db-8b33-5c624558cf67",
   "metadata": {},
   "outputs": [
    {
     "name": "stdout",
     "output_type": "stream",
     "text": [
      "['e', 'e', 'a']\n"
     ]
    }
   ],
   "source": [
    "#### Question 11\n",
    "word = 'elephant'\n",
    "\n",
    "vowels = [char for char in word if char.lower() in 'aeiou']\n",
    "print(vowels)\n"
   ]
  },
  {
   "cell_type": "code",
   "execution_count": 9,
   "id": "47d2e0a3-4a79-4ffa-a65e-503a7aa48e23",
   "metadata": {},
   "outputs": [
    {
     "name": "stdout",
     "output_type": "stream",
     "text": [
      "The number of occurrences of 2 in the list is: 3\n"
     ]
    }
   ],
   "source": [
    "#### Question 12\n",
    "my_list = [1, 2, 3, 2, 4, 2, 5]\n",
    "\n",
    "count_of_2 = my_list.count(2)\n",
    "print(f\"The number of occurrences of 2 in the list is: {count_of_2}\")\n"
   ]
  },
  {
   "cell_type": "code",
   "execution_count": 10,
   "id": "d35f805e-785a-439c-8b8f-e81dce488d96",
   "metadata": {},
   "outputs": [
    {
     "name": "stdout",
     "output_type": "stream",
     "text": [
      "[('a', 1), ('a', 2), ('a', 3), ('b', 1), ('b', 2), ('b', 3)]\n"
     ]
    }
   ],
   "source": [
    "#### Question 13\n",
    "list1 = ['a', 'b']\n",
    "list2 = [1, 2, 3]\n",
    "\n",
    "pairs = [(x, y) for x in list1 for y in list2]\n",
    "print(pairs)\n"
   ]
  },
  {
   "cell_type": "code",
   "execution_count": 11,
   "id": "aa191895-56aa-4cd1-8202-142b0391ee01",
   "metadata": {},
   "outputs": [
    {
     "name": "stdout",
     "output_type": "stream",
     "text": [
      "Value 4 is present in one of the inner lists.\n"
     ]
    }
   ],
   "source": [
    "###### Question 14\n",
    "nested_list = [[1, 2], [3, 4], [5, 6]]\n",
    "\n",
    "# Using nested loop\n",
    "found = False\n",
    "for inner_list in nested_list:\n",
    "    if 4 in inner_list:\n",
    "        found = True\n",
    "        break\n",
    "\n",
    "if found:\n",
    "    print(\"Value 4 is present in one of the inner lists.\")\n",
    "else:\n",
    "    print(\"Value 4 is not present in any of the inner lists.\")\n"
   ]
  },
  {
   "cell_type": "code",
   "execution_count": null,
   "id": "543b05d5-867b-4837-998e-fcd55c1eab36",
   "metadata": {},
   "outputs": [],
   "source": []
  }
 ],
 "metadata": {
  "kernelspec": {
   "display_name": "Python 3 (ipykernel)",
   "language": "python",
   "name": "python3"
  },
  "language_info": {
   "codemirror_mode": {
    "name": "ipython",
    "version": 3
   },
   "file_extension": ".py",
   "mimetype": "text/x-python",
   "name": "python",
   "nbconvert_exporter": "python",
   "pygments_lexer": "ipython3",
   "version": "3.11.4"
  }
 },
 "nbformat": 4,
 "nbformat_minor": 5
}
