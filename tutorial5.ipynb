{
 "cells": [
  {
   "cell_type": "markdown",
   "id": "351ca132-5c09-4274-9fce-b057f5cfbc35",
   "metadata": {},
   "source": [
    "Tutorial 5"
   ]
  },
  {
   "cell_type": "code",
   "execution_count": 3,
   "id": "89011a67-3764-4ba5-ba15-de3995040512",
   "metadata": {},
   "outputs": [
    {
     "name": "stdout",
     "output_type": "stream",
     "text": [
      "BXEXNXNXEXTXTX"
     ]
    }
   ],
   "source": [
    "### quest 3 ###\n",
    "string = 'BENNETT'\n",
    "for letters in string:\n",
    "    print (letters,end='X')\n"
   ]
  },
  {
   "cell_type": "code",
   "execution_count": 14,
   "id": "9df422f0-c701-42f3-8b03-0a07b6059c7c",
   "metadata": {},
   "outputs": [
    {
     "name": "stdout",
     "output_type": "stream",
     "text": [
      "(15, -9)\n",
      "(13, -6)\n",
      "(11, -3)\n"
     ]
    }
   ],
   "source": [
    "### quest 4 ###\n",
    "\n",
    "num1 = 17\n",
    "num2 = -12\n",
    "while num1 > 5 and num2 < -5 :\n",
    "    num1 -= 2\n",
    "    num2 += 3\n",
    "    print( (num1, num2) )"
   ]
  },
  {
   "cell_type": "code",
   "execution_count": 4,
   "id": "00b08152-b4b6-41e8-89fa-27748003807c",
   "metadata": {},
   "outputs": [
    {
     "name": "stdout",
     "output_type": "stream",
     "text": [
      "t\n"
     ]
    }
   ],
   "source": [
    "### quest 5 ###\n",
    "for string in \"BU Student\":\n",
    "    pass\n",
    "print(string)"
   ]
  },
  {
   "cell_type": "code",
   "execution_count": 12,
   "id": "61cf8dd6-4112-4eeb-a5d0-83f682ce65a1",
   "metadata": {},
   "outputs": [
    {
     "name": "stdout",
     "output_type": "stream",
     "text": [
      "[25, 16, 9, 4, 1]\n"
     ]
    }
   ],
   "source": [
    "### quest 6 ###\n",
    "a = [1,2,3,4,5]\n",
    "x= []\n",
    "while a:\n",
    "    x.append( (a.pop())**2)\n",
    "print( x )"
   ]
  },
  {
   "cell_type": "code",
   "execution_count": 11,
   "id": "a9d622a9-2b3d-4f7f-9647-213e6314a284",
   "metadata": {},
   "outputs": [
    {
     "name": "stdout",
     "output_type": "stream",
     "text": [
      "[0, 2, 4, 6, 8, 10, 12, 14, 16, 18]\n"
     ]
    }
   ],
   "source": [
    "### quest 7 ####\n",
    "X = []\n",
    "i = 0\n",
    "while len(X) < 10 :\n",
    "    X.append(i)\n",
    "    i += 2\n",
    "print(X)"
   ]
  },
  {
   "cell_type": "code",
   "execution_count": 10,
   "id": "382fbf53-5303-4fe4-8d67-0f3d29d7221d",
   "metadata": {},
   "outputs": [
    {
     "name": "stdin",
     "output_type": "stream",
     "text": [
      "Enter your weight in kilograms:  32\n",
      "Enter your height in meters:  12\n"
     ]
    },
    {
     "name": "stdout",
     "output_type": "stream",
     "text": [
      "Your BMI is: 0.22\n",
      "Condition: Underweight\n"
     ]
    }
   ],
   "source": [
    "#### Quest 9 ###\n",
    "\n",
    "def calculate_bmi(weight, height):\n",
    "    # Formula for BMI: weight (kg) / (height (m))^2\n",
    "    bmi = weight / (height ** 2)\n",
    "\n",
    "    # Classify BMI conditions\n",
    "    if bmi < 18.5:\n",
    "        return \"Underweight\"\n",
    "    elif 18.5 <= bmi < 24.9:\n",
    "        return \"Normal weight\"\n",
    "    elif 25 <= bmi < 29.9:\n",
    "        return \"Overweight\"\n",
    "    else:\n",
    "        return \"Obese\"\n",
    "\n",
    "# Get user input for weight and height\n",
    "weight = float(input(\"Enter your weight in kilograms: \"))\n",
    "height = float(input(\"Enter your height in meters: \"))\n",
    "\n",
    "# Call the function to calculate BMI and display the condition\n",
    "result = calculate_bmi(weight, height)\n",
    "print(f\"Your BMI is: {weight / (height ** 2):.2f}\")\n",
    "print(\"Condition:\", result)\n"
   ]
  },
  {
   "cell_type": "code",
   "execution_count": 2,
   "id": "7780602a-dab8-429b-acee-0c3243925ab2",
   "metadata": {},
   "outputs": [
    {
     "name": "stdin",
     "output_type": "stream",
     "text": [
      "Enter the starting number:  1\n",
      "Enter the number of proceeding steps:  1\n"
     ]
    },
    {
     "name": "stdout",
     "output_type": "stream",
     "text": [
      "Sequence: 1\n",
      "Sum: 1\n",
      "Average: 1.00\n"
     ]
    }
   ],
   "source": [
    "### quest 10 ###\n",
    "def calculate_sum_and_average(start, steps):\n",
    "    # Calculate the sum of the sequence\n",
    "    sequence_sum = sum(range(start, start + steps))\n",
    "\n",
    "    # Calculate the average of the sequence\n",
    "    sequence_average = sequence_sum / steps\n",
    "\n",
    "    return sequence_sum, sequence_average\n",
    "\n",
    "# Get user input for the starting number and proceeding steps\n",
    "start_number = int(input(\"Enter the starting number: \"))\n",
    "proceeding_steps = int(input(\"Enter the number of proceeding steps: \"))\n",
    "\n",
    "# Call the function to calculate sum and average\n",
    "sum_result, average_result = calculate_sum_and_average(start_number, proceeding_steps)\n",
    "\n",
    "# Display the results\n",
    "print(f\"Sequence: {', '.join(map(str, range(start_number, start_number + proceeding_steps)))}\")\n",
    "print(f\"Sum: {sum_result}\")\n",
    "print(f\"Average: {average_result:.2f}\")\n"
   ]
  },
  {
   "cell_type": "code",
   "execution_count": 6,
   "id": "cfa35b39-f682-4954-b7ef-307f50901e48",
   "metadata": {},
   "outputs": [
    {
     "name": "stdin",
     "output_type": "stream",
     "text": [
      "Enter the x-coordinate:  1\n",
      "Enter the y-coordinate:  2\n"
     ]
    },
    {
     "name": "stdout",
     "output_type": "stream",
     "text": [
      "The distance from the origin to (1.0, 2.0) is: 2.24\n"
     ]
    }
   ],
   "source": [
    "### quest 11 ###\n",
    "import math\n",
    "\n",
    "def calculate_distance(x, y):\n",
    "    # Calculate Euclidean distance from the origin (0,0)\n",
    "    distance = math.sqrt(x**2 + y**2)\n",
    "    return distance\n",
    "\n",
    "# Get user input for coordinates\n",
    "x = float(input(\"Enter the x-coordinate: \"))\n",
    "y = float(input(\"Enter the y-coordinate: \"))\n",
    "\n",
    "# Call the function to calculate distance\n",
    "distance_from_origin = calculate_distance(x, y)\n",
    "\n",
    "# Display the result\n",
    "print(f\"The distance from the origin to ({x}, {y}) is: {distance_from_origin:.2f}\")\n"
   ]
  },
  {
   "cell_type": "code",
   "execution_count": 7,
   "id": "b06dd833-d1bd-4859-8afe-211dce74a8e7",
   "metadata": {},
   "outputs": [
    {
     "name": "stdin",
     "output_type": "stream",
     "text": [
      "Enter a number to display its multiplication table:  1\n"
     ]
    },
    {
     "name": "stdout",
     "output_type": "stream",
     "text": [
      "Multiplication Table for 1:\n",
      "1 * 1 = 1\n",
      "1 * 2 = 2\n",
      "1 * 3 = 3\n",
      "1 * 4 = 4\n",
      "1 * 5 = 5\n",
      "1 * 6 = 6\n",
      "1 * 7 = 7\n",
      "1 * 8 = 8\n",
      "1 * 9 = 9\n",
      "1 * 10 = 10\n"
     ]
    }
   ],
   "source": [
    "### quest 12 ###\n",
    "def print_multiplication_table(number, limit=10):\n",
    "    print(f\"Multiplication Table for {number}:\")\n",
    "    for i in range(1, limit + 1):\n",
    "        result = number * i\n",
    "        print(f\"{number} * {i} = {result}\")\n",
    "\n",
    "# Get user input for the number\n",
    "number = int(input(\"Enter a number to display its multiplication table: \"))\n",
    "\n",
    "# Call the function to print the multiplication table\n",
    "print_multiplication_table(number)\n"
   ]
  },
  {
   "cell_type": "code",
   "execution_count": 8,
   "id": "735d5a29-1627-4f54-9787-8d7dcb4c760e",
   "metadata": {},
   "outputs": [
    {
     "name": "stdin",
     "output_type": "stream",
     "text": [
      "Enter a string:  sa\n"
     ]
    },
    {
     "name": "stdout",
     "output_type": "stream",
     "text": [
      "Number of letters in the string: 2\n"
     ]
    }
   ],
   "source": [
    "### quest 13 ###\n",
    "def count_letters(input_string):\n",
    "    # Use a loop to iterate through each character in the string\n",
    "    letter_count = 0\n",
    "    for char in input_string:\n",
    "        # Check if the character is a letter (excluding spaces)\n",
    "        if char.isalpha():\n",
    "            letter_count += 1\n",
    "\n",
    "    return letter_count\n",
    "\n",
    "# Get user input for the string\n",
    "input_string = input(\"Enter a string: \")\n",
    "\n",
    "# Call the function to count letters\n",
    "result = count_letters(input_string)\n",
    "\n",
    "# Display the result\n",
    "print(f\"Number of letters in the string: {result}\")\n"
   ]
  },
  {
   "cell_type": "code",
   "execution_count": null,
   "id": "44980830-d011-408d-9f44-cadc891cab21",
   "metadata": {},
   "outputs": [],
   "source": []
  }
 ],
 "metadata": {
  "kernelspec": {
   "display_name": "Python 3 (ipykernel)",
   "language": "python",
   "name": "python3"
  },
  "language_info": {
   "codemirror_mode": {
    "name": "ipython",
    "version": 3
   },
   "file_extension": ".py",
   "mimetype": "text/x-python",
   "name": "python",
   "nbconvert_exporter": "python",
   "pygments_lexer": "ipython3",
   "version": "3.11.4"
  }
 },
 "nbformat": 4,
 "nbformat_minor": 5
}
