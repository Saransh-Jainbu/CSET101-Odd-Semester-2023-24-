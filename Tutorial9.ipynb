{
 "cells": [
  {
   "cell_type": "markdown",
   "id": "66bf791a-b570-4198-b50a-feab3d950828",
   "metadata": {},
   "source": [
    "Tutorial 9"
   ]
  },
  {
   "cell_type": "code",
   "execution_count": 17,
   "id": "de0d53f5-5da5-45ff-9b5b-e45896c2e30e",
   "metadata": {},
   "outputs": [
    {
     "name": "stdout",
     "output_type": "stream",
     "text": [
      "['pear', 'grapefruit', 'orange', 'apple']\n",
      "2\n",
      "0\n"
     ]
    }
   ],
   "source": [
    "### Question 1 ###\n",
    "Li = ['pear', 'orange', 'apple', 'grapefruit', 'apple', 'pear']\n",
    "print(list(set(Li)))\n",
    "print(Li.index('apple'))\n",
    "print(Li.index('pear'))"
   ]
  },
  {
   "cell_type": "code",
   "execution_count": 20,
   "id": "1799ac14-66eb-47fb-a4fb-ac6b3b1ec20b",
   "metadata": {},
   "outputs": [
    {
     "name": "stdout",
     "output_type": "stream",
     "text": [
      "0 :flour\n",
      "1 :cheese\n",
      "2 :carrots\n"
     ]
    }
   ],
   "source": [
    "### Question 2 ###\n",
    "grocery_list = ['flour', 'cheese', 'carrots']\n",
    "for idx, val in enumerate(grocery_list):\n",
    " print(\"%s :%s\" % (idx, val))"
   ]
  },
  {
   "cell_type": "code",
   "execution_count": 21,
   "id": "3010b1ac-013f-46ce-a5b4-44e9149850e9",
   "metadata": {},
   "outputs": [
    {
     "name": "stdout",
     "output_type": "stream",
     "text": [
      "['chuck norris', 'bruce lee']\n",
      "['chuck norris', 'bruce lee']\n"
     ]
    }
   ],
   "source": [
    "### Question 3 ###\n",
    "round1=['chuck norris','bruce lee','sonny chiba'] \n",
    "round2=round1\n",
    "round2.remove('sonny chiba') \n",
    "print(round1)\n",
    "print(round2)"
   ]
  },
  {
   "cell_type": "code",
   "execution_count": 22,
   "id": "9ac9007d-0912-46d6-bbe3-29985cf46c2f",
   "metadata": {},
   "outputs": [
    {
     "name": "stdout",
     "output_type": "stream",
     "text": [
      "Round 1: ['chuck norris', 'bruce lee', 'sonny chiba']\n",
      "Round 2: ['chuck norris', 'bruce lee']\n"
     ]
    }
   ],
   "source": [
    "### Question 4 ###\n",
    "import copy\n",
    "\n",
    "round1 = ['chuck norris', 'bruce lee', 'sonny chiba']\n",
    "round2 = copy.copy(round1)  # Creating a shallow copy\n",
    "\n",
    "round2.remove('sonny chiba')\n",
    "\n",
    "print(\"Round 1:\", round1)\n",
    "print(\"Round 2:\", round2)\n"
   ]
  },
  {
   "cell_type": "code",
   "execution_count": 25,
   "id": "711a3447-5f16-40d9-b350-d18a7b2ec5a3",
   "metadata": {},
   "outputs": [
    {
     "name": "stdout",
     "output_type": "stream",
     "text": [
      "{'r': 3, 'g': 2, 'b': 1}\n"
     ]
    }
   ],
   "source": [
    "### Question 5 ###\n",
    "\n",
    "keys = ['r', 'g', 'b', 'o']\n",
    "vals = [1, 2, 3]\n",
    "color_dict = dict(zip(keys, vals[::-1]))  # Reverse the order of 'vals' before creating the dictionary\n",
    "print(color_dict)\n"
   ]
  },
  {
   "cell_type": "code",
   "execution_count": 29,
   "id": "bf897e1d-2bb8-4319-bb92-8fed6c42e133",
   "metadata": {},
   "outputs": [
    {
     "name": "stdout",
     "output_type": "stream",
     "text": [
      "d: {'a': 100, 'b': 200, 'x': 300, 'y': 400}\n",
      "d: {'a': 100, 'b': 200, 'x': 800, 'y': 400}\n",
      "d: {'a': 100, 'b': 200, 'x': 500, 'y': 600}\n",
      "d3: {'a': 100, 'b': 200, 'x': 300, 'y': 400}\n"
     ]
    },
    {
     "data": {
      "text/plain": [
       "'Key modifications:\\n\\nChange d3 = d1 to d3 = d1.copy() to create a copy of d1 and ensure that modifications to d1 do not affect d3.\\nWhen updating d with d1, make sure to use d.update(d1) to incorporate the changes from d1 into d.\\nFinally, print both d and d3 to compare the results.'"
      ]
     },
     "execution_count": 29,
     "metadata": {},
     "output_type": "execute_result"
    }
   ],
   "source": [
    "### Question 6 ###\n",
    "d1 = {'a': 100, 'b': 200, 'x': 300, 'y': 400}\n",
    "d2 = {'x': 500, 'y': 600}\n",
    "\n",
    "# Make a copy of d1 to ensure a separate dictionary is created\n",
    "d = d1.copy()\n",
    "\n",
    "# Assign a copy of d1 to d3\n",
    "d3 = d1.copy()\n",
    "\n",
    "d1['x'] = 800\n",
    "print(\"d:\", d)\n",
    "d.update(d1)\n",
    "print(\"d:\", d)\n",
    "d.update(d2)\n",
    "print(\"d:\", d)\n",
    "print(\"d3:\", d3)\n",
    "\n",
    "'''Key modifications:\n",
    "\n",
    "Change d3 = d1 to d3 = d1.copy() to create a copy of d1 and ensure that modifications to d1 do not affect d3.\n",
    "When updating d with d1, make sure to use d.update(d1) to incorporate the changes from d1 into d.\n",
    "Finally, print both d and d3 to compare the results.'''"
   ]
  },
  {
   "cell_type": "code",
   "execution_count": 36,
   "id": "373d0818-bcd6-466a-83a2-62bab00aa21b",
   "metadata": {},
   "outputs": [
    {
     "name": "stdout",
     "output_type": "stream",
     "text": [
      "hello\n",
      "how\n",
      "this\n"
     ]
    },
    {
     "ename": "KeyError",
     "evalue": "'c'",
     "output_type": "error",
     "traceback": [
      "\u001b[1;31m---------------------------------------------------------------------------\u001b[0m",
      "\u001b[1;31mKeyError\u001b[0m                                  Traceback (most recent call last)",
      "Cell \u001b[1;32mIn[36], line 7\u001b[0m\n\u001b[0;32m      5\u001b[0m \u001b[38;5;28mprint\u001b[39m(mydict[\u001b[38;5;124m'\u001b[39m\u001b[38;5;124ms\u001b[39m\u001b[38;5;124m'\u001b[39m])\n\u001b[0;32m      6\u001b[0m \u001b[38;5;28mprint\u001b[39m(mydict[\u001b[38;5;124m\"\u001b[39m\u001b[38;5;124mt\u001b[39m\u001b[38;5;124m\"\u001b[39m])\n\u001b[1;32m----> 7\u001b[0m \u001b[38;5;28mprint\u001b[39m(\u001b[43mmydict\u001b[49m\u001b[43m[\u001b[49m\u001b[38;5;124;43m'\u001b[39;49m\u001b[38;5;124;43mc\u001b[39;49m\u001b[38;5;124;43m'\u001b[39;49m\u001b[43m]\u001b[49m)\n\u001b[0;32m      8\u001b[0m \u001b[38;5;124;03m'''Key error will happen as there is no key as c in the dict'''\u001b[39;00m\n",
      "\u001b[1;31mKeyError\u001b[0m: 'c'"
     ]
    }
   ],
   "source": [
    "### Question 7 ###\n",
    "mydict = {}\n",
    "mydict = {'g':'hello', 's':'how', 't':'this'}\n",
    "print(mydict['g'])\n",
    "print(mydict['s'])\n",
    "print(mydict[\"t\"])\n",
    "print(mydict['c'])\n",
    "'''Key error will happen as there is no key as c in the dict'''"
   ]
  },
  {
   "cell_type": "code",
   "execution_count": 37,
   "id": "c17254e4-bdea-4adc-a0ac-738a8af9a3a3",
   "metadata": {},
   "outputs": [
    {
     "name": "stdout",
     "output_type": "stream",
     "text": [
      "original dictionary is:{'g': 'hello', 's': 'how', 't': 'this'}\n",
      "updated dictionary is:{'g': 17, 's': 23, 't': 'this'}\n"
     ]
    },
    {
     "ename": "KeyError",
     "evalue": "'this'",
     "output_type": "error",
     "traceback": [
      "\u001b[1;31m---------------------------------------------------------------------------\u001b[0m",
      "\u001b[1;31mKeyError\u001b[0m                                  Traceback (most recent call last)",
      "Cell \u001b[1;32mIn[37], line 7\u001b[0m\n\u001b[0;32m      5\u001b[0m dict_new \u001b[38;5;241m=\u001b[39m {key:updict\u001b[38;5;241m.\u001b[39mget(key,mydict[key]) \u001b[38;5;28;01mfor\u001b[39;00m key \u001b[38;5;129;01min\u001b[39;00m mydict}\n\u001b[0;32m      6\u001b[0m \u001b[38;5;28mprint\u001b[39m(\u001b[38;5;124m\"\u001b[39m\u001b[38;5;124mupdated dictionary is:\u001b[39m\u001b[38;5;124m\"\u001b[39m\u001b[38;5;241m+\u001b[39m\u001b[38;5;28mstr\u001b[39m(dict_new))\n\u001b[1;32m----> 7\u001b[0m \u001b[38;5;28mprint\u001b[39m(\u001b[43mmydict\u001b[49m\u001b[43m[\u001b[49m\u001b[38;5;124;43m'\u001b[39;49m\u001b[38;5;124;43mthis\u001b[39;49m\u001b[38;5;124;43m'\u001b[39;49m\u001b[43m]\u001b[49m)\n\u001b[0;32m     10\u001b[0m \u001b[38;5;124;03m'''The error in the code is in the line:\u001b[39;00m\n\u001b[0;32m     11\u001b[0m \u001b[38;5;124;03mdict_new = {key: updict.get(key, mydict[key]) for key in mydict}\u001b[39;00m\n\u001b[0;32m     12\u001b[0m \u001b[38;5;124;03mThe key 'this' in updict does not exist, and as a result, updict.get('this', mydict['this']) will return mydict['this']. However, the key 'this' in mydict is not present, and this will raise a KeyError.'''\u001b[39;00m\n",
      "\u001b[1;31mKeyError\u001b[0m: 'this'"
     ]
    }
   ],
   "source": [
    "### Question 8 ###\n",
    "mydict = {'g':'hello', 's':'how', 't':'this'}\n",
    "print(\"original dictionary is:\"+str(mydict))\n",
    "updict = {'g':17, 's':23, 'this':87}\n",
    "dict_new = {key:updict.get(key,mydict[key]) for key in mydict}\n",
    "print(\"updated dictionary is:\"+str(dict_new))\n",
    "print(mydict['this'])\n",
    "\n",
    "\n",
    "'''The error in the code is in the line:\n",
    "dict_new = {key: updict.get(key, mydict[key]) for key in mydict}\n",
    "The key 'this' in updict does not exist, and as a result, updict.get('this', mydict['this']) will return mydict['this']. However, the key 'this' in mydict is not present, and this will raise a KeyError.'''"
   ]
  },
  {
   "cell_type": "code",
   "execution_count": 39,
   "id": "01c7d70c-ca82-4d87-acc4-d3498a875655",
   "metadata": {},
   "outputs": [
    {
     "name": "stdout",
     "output_type": "stream",
     "text": [
      "True\n"
     ]
    }
   ],
   "source": [
    "### Question 9 ###\n",
    "def check(t):\n",
    " return all(i==45 for i in t)\n",
    "tuple1 = (45,45,45,45)\n",
    "print(check(tuple1))"
   ]
  },
  {
   "cell_type": "code",
   "execution_count": 41,
   "id": "73de788f-8490-437b-acee-00924f8ebdc0",
   "metadata": {},
   "outputs": [
    {
     "name": "stdout",
     "output_type": "stream",
     "text": [
      "Quantity of tables: 10\n",
      "Quantity of chairs: 20\n",
      "Updated room dictionary: {'table': '10', 'chair': '25', 'beanbags': '40', 'longchair': '30'}\n",
      "Removed item: 40\n",
      "Updated room dictionary after pop: {'table': '10', 'chair': '25', 'longchair': '30'}\n",
      "Copied room dictionary: {'table': '10', 'chair': '25', 'longchair': '30'}\n"
     ]
    }
   ],
   "source": [
    "#(a) Using the get method to get the value of keys:\n",
    "\n",
    "\n",
    "room = {\n",
    "    'table': '10',\n",
    "    'chair': '20',\n",
    "    'beanbags': '40',\n",
    "    'longchair': '30'\n",
    "}\n",
    "\n",
    "# (a) Using get method to get the value of keys\n",
    "table_quantity = room.get('table', 'Key not found')\n",
    "print(f\"Quantity of tables: {table_quantity}\")\n",
    "\n",
    "chair_quantity = room.get('chair', 'Key not found')\n",
    "print(f\"Quantity of chairs: {chair_quantity}\")\n",
    "\n",
    "\n",
    "# (b) Updating the quantity of chairs in the room\n",
    "room['chair'] = '25'\n",
    "print(\"Updated room dictionary:\", room)\n",
    "\n",
    "\n",
    "# (c) Using pop method in this dictionary\n",
    "removed_item = room.pop('beanbags', None)\n",
    "print(\"Removed item:\", removed_item)\n",
    "print(\"Updated room dictionary after pop:\", room)\n",
    "\n",
    "# (d) Using copy method in dictionary\n",
    "room_copy = room.copy()\n",
    "print(\"Copied room dictionary:\", room_copy)\n"
   ]
  },
  {
   "cell_type": "code",
   "execution_count": 44,
   "id": "3afe40e5-fda6-4c53-aef6-39a333715efe",
   "metadata": {},
   "outputs": [
    {
     "name": "stdin",
     "output_type": "stream",
     "text": [
      "Enter the number of students in Section A section:  1\n",
      "Enter admission number for student 1:  1\n",
      "Enter name for student 1:  1\n",
      "Enter the number of students in Section B section:  1\n",
      "Enter admission number for student 1:  \n",
      "Enter name for student 1:  1\n"
     ]
    },
    {
     "name": "stdout",
     "output_type": "stream",
     "text": [
      "\n",
      "Merged Dictionary:\n",
      "{'1': '1', '': '1'}\n"
     ]
    }
   ],
   "source": [
    "### Question 11###\n",
    "def input_student_details(section_name):\n",
    "    student_dict = {}\n",
    "    num_students = int(input(f\"Enter the number of students in {section_name} section: \"))\n",
    "\n",
    "    for i in range(num_students):\n",
    "        admission_number = input(f\"Enter admission number for student {i + 1}: \")\n",
    "        student_name = input(f\"Enter name for student {i + 1}: \")\n",
    "        student_dict[admission_number] = student_name\n",
    "\n",
    "    return student_dict\n",
    "\n",
    "# Input details for two sections\n",
    "section1 = input_student_details(\"Section A\")\n",
    "section2 = input_student_details(\"Section B\")\n",
    "\n",
    "# Merge the entries from both sections\n",
    "merged_dict = {**section1, **section2}\n",
    "\n",
    "# Display the merged dictionary\n",
    "print(\"\\nMerged Dictionary:\")\n",
    "print(merged_dict)\n"
   ]
  },
  {
   "cell_type": "code",
   "execution_count": 45,
   "id": "a1523776-4969-4701-af5e-15b6d885e8f8",
   "metadata": {},
   "outputs": [
    {
     "ename": "TypeError",
     "evalue": "'>' not supported between instances of 'dict' and 'dict'",
     "output_type": "error",
     "traceback": [
      "\u001b[1;31m---------------------------------------------------------------------------\u001b[0m",
      "\u001b[1;31mTypeError\u001b[0m                                 Traceback (most recent call last)",
      "Cell \u001b[1;32mIn[45], line 4\u001b[0m\n\u001b[0;32m      2\u001b[0m dict1 \u001b[38;5;241m=\u001b[39m {\u001b[38;5;124m\"\u001b[39m\u001b[38;5;124mAmit\u001b[39m\u001b[38;5;124m\"\u001b[39m:\u001b[38;5;241m100\u001b[39m, \u001b[38;5;124m\"\u001b[39m\u001b[38;5;124mAjay\u001b[39m\u001b[38;5;124m\"\u001b[39m:\u001b[38;5;241m40\u001b[39m} \n\u001b[0;32m      3\u001b[0m dict2 \u001b[38;5;241m=\u001b[39m {\u001b[38;5;124m\"\u001b[39m\u001b[38;5;124mAmit\u001b[39m\u001b[38;5;124m\"\u001b[39m:\u001b[38;5;241m400\u001b[39m, \u001b[38;5;124m\"\u001b[39m\u001b[38;5;124mAjay\u001b[39m\u001b[38;5;124m\"\u001b[39m:\u001b[38;5;241m40\u001b[39m} \n\u001b[1;32m----> 4\u001b[0m \u001b[38;5;28mprint\u001b[39m(\u001b[43mdict1\u001b[49m\u001b[38;5;241;43m>\u001b[39;49m\u001b[43mdict2\u001b[49m)\n",
      "\u001b[1;31mTypeError\u001b[0m: '>' not supported between instances of 'dict' and 'dict'"
     ]
    }
   ],
   "source": [
    "### Question 17\n",
    "dict1 = {\"Amit\":100, \"Ajay\":40} \n",
    "dict2 = {\"Amit\":400, \"Ajay\":40} \n",
    "print(dict1>dict2)"
   ]
  },
  {
   "cell_type": "code",
   "execution_count": 46,
   "id": "2def1534-06fd-456f-ab1a-b2158dca5bca",
   "metadata": {},
   "outputs": [
    {
     "name": "stdout",
     "output_type": "stream",
     "text": [
      "False\n"
     ]
    }
   ],
   "source": [
    "dict1 = {\"Amit\": 100, \"Ajay\": 40}\n",
    "dict2 = {\"Amit\": 400, \"Ajay\": 40}\n",
    "\n",
    "sum_dict1 = sum(dict1.values())\n",
    "sum_dict2 = sum(dict2.values())\n",
    "\n",
    "print(sum_dict1 > sum_dict2)\n"
   ]
  },
  {
   "cell_type": "code",
   "execution_count": 47,
   "id": "c79b992a-e1c9-428c-9bd4-984cf29fb395",
   "metadata": {},
   "outputs": [
    {
     "name": "stdout",
     "output_type": "stream",
     "text": [
      "Word Count Dictionary:\n",
      "{'Split': 1, 'the': 2, 'string': 1, 'sentence': 1, 'into': 1, 'a': 2, 'list': 1, 'of': 2, 'words': 1, 'then': 1, 'create': 1, 'dictionary': 1, 'named': 1, 'word_count': 1, 'that': 1, 'contains': 1, 'each': 1, 'word': 1, 'and': 1, 'number': 1, 'times': 1, 'it': 1, 'occurs': 1}\n"
     ]
    }
   ],
   "source": [
    "sentence = \"Split the string sentence into a list of words then create a dictionary named word_count that contains each word and the number of times it occurs\"\n",
    "word_list = sentence.split()\n",
    "\n",
    "word_count = {}\n",
    "\n",
    "for word in word_list:\n",
    "    # Use get() to either retrieve the current count or initialize it to 0\n",
    "    word_count[word] = word_count.get(word, 0) + 1\n",
    "\n",
    "print(\"Word Count Dictionary:\")\n",
    "print(word_count)\n"
   ]
  },
  {
   "cell_type": "code",
   "execution_count": null,
   "id": "17b7584c-b8e1-464b-a89c-efd39c847da6",
   "metadata": {},
   "outputs": [],
   "source": []
  }
 ],
 "metadata": {
  "kernelspec": {
   "display_name": "Python 3 (ipykernel)",
   "language": "python",
   "name": "python3"
  },
  "language_info": {
   "codemirror_mode": {
    "name": "ipython",
    "version": 3
   },
   "file_extension": ".py",
   "mimetype": "text/x-python",
   "name": "python",
   "nbconvert_exporter": "python",
   "pygments_lexer": "ipython3",
   "version": "3.11.4"
  }
 },
 "nbformat": 4,
 "nbformat_minor": 5
}
