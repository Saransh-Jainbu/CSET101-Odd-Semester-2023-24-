{
 "cells": [
  {
   "cell_type": "raw",
   "id": "facbd3e5-0dfe-41d8-9ea1-85b839b7c096",
   "metadata": {},
   "source": [
    "1.\tIs Python case sensitive when dealing with identifiers?\n",
    "\n",
    "Answer:\tyes"
   ]
  },
  {
   "cell_type": "raw",
   "id": "a88657d9-831a-4f93-b4fa-c486b8876378",
   "metadata": {},
   "source": [
    "2.\tWhat is the maximum possible length of an identifier?\n",
    "\n",
    "Answer: d)\tnone of the mentioned"
   ]
  },
  {
   "cell_type": "raw",
   "id": "9984a39f-bbf5-4f08-a06b-225e38c93b3d",
   "metadata": {},
   "source": [
    "3.\tWhich of the following is an invalid statement?\n",
    "\n",
    "Answer: b) a b c = 1000 2000 3000\n",
    "\n",
    "Explanation- (Python interpreter will show invalid syntax, as if you \n",
    "want to do simultaneous assignment to variable, so they should be \n",
    "separated by comma (,)."
   ]
  },
  {
   "cell_type": "raw",
   "id": "ad0f203d-e3f2-4e76-b456-3c3b826ece28",
   "metadata": {},
   "source": [
    "4.\tIf we want to print the roundoff value upto two digit for 49.279 using format function, what will be the correct code:\n",
    "\n",
    "Answer: a)\ttxt = \"For only {price:.2f} dollars!\" print (txt.format(price = 49.279))\n",
    "\n",
    "Explanation- printf is not defined in python. (Python interpreter will \n",
    "show NameError: name 'printf' is not defined for option b and c)\n"
   ]
  },
  {
   "cell_type": "raw",
   "id": "30380df2-6eda-4b2d-a1b5-086bf1466bc9",
   "metadata": {},
   "source": [
    "5.\tWhat will be the output: \n",
    "user_name = 'User1' \n",
    "print(User_name)\n",
    "\n",
    "Answer:Output Error - ( NameError: name 'User_name' is not defined) \n",
    "\n",
    "Explanation- Since python is case sensitive language so user_name and \n",
    "User_name both are treated as different."
   ]
  },
  {
   "cell_type": "raw",
   "id": "836ab4f4-92b8-4e43-b7b0-459766f97926",
   "metadata": {},
   "source": [
    "user_name = 'User1' \n",
    "print(User_name)"
   ]
  },
  {
   "cell_type": "raw",
   "id": "a2fa8679-784b-41f0-aba4-98de38f55c05",
   "metadata": {},
   "source": [
    "6.\tWhat will be the output?\n",
    "a=10\n",
    "b=12\n",
    "ans=a|b\n",
    "print(ans)\n",
    "\n",
    "Output -: 14\n",
    "\n",
    "Explanation- | is bitwise or operator so it would perform or operation \n",
    "between 1010 | 1100 and result would be 1110 which is basically 14 in \n",
    "decimal."
   ]
  },
  {
   "cell_type": "code",
   "execution_count": 2,
   "id": "b786ae40-6415-4dde-bb19-2676cd2519f5",
   "metadata": {},
   "outputs": [
    {
     "name": "stdout",
     "output_type": "stream",
     "text": [
      "14\n"
     ]
    }
   ],
   "source": [
    "a=10\n",
    "b=12\n",
    "ans=a|b\n",
    "print(ans)"
   ]
  },
  {
   "cell_type": "raw",
   "id": "edcf6b9d-b868-422f-86ba-63bccc921711",
   "metadata": {},
   "source": [
    "7.\tPrint the output.\n",
    "a = 5\n",
    "b = 9\n",
    "ans = a & b \n",
    "print(ans)\n",
    "\n",
    "Output-: 1\n",
    "\n",
    "Explanation- & is bitwise and operator so it would perform and\n",
    "operation between 0101 & 1001 and result would be 0001 which is \n",
    "basically 1 in decimal. "
   ]
  },
  {
   "cell_type": "code",
   "execution_count": 4,
   "id": "eeae337b-856c-4932-a6d5-5ac2175753d7",
   "metadata": {},
   "outputs": [
    {
     "name": "stdout",
     "output_type": "stream",
     "text": [
      "1\n"
     ]
    }
   ],
   "source": [
    "a = 5\n",
    "b = 9\n",
    "ans = a & b \n",
    "print(ans)\n"
   ]
  },
  {
   "cell_type": "raw",
   "id": "670525b5-eee4-4253-8473-f1e99016f066",
   "metadata": {},
   "source": [
    "8.\tPrint the output.\n",
    "var = 2;\n",
    "print(\"var = \", var<<0) \n",
    "print(\"var = \", var<<1) \n",
    "print(\"var = \", var<<2) \n",
    "print(\"var = \", var<<3) \n",
    "print(\"var = \", var<<4) \n",
    "print(\"var = \", var<<5)\n",
    "\n",
    "Output is -\n",
    "\n",
    "var = 2\n",
    "var = 4\n",
    "var = 8\n",
    "var = 16\n",
    "var = 32\n",
    "var = 64\n",
    "\n",
    "Explanation: The code uses the left shift operator (<<) to shift the binary representation of the \n",
    "variable `var` by a specified number of positions to the left.\n",
    "\n",
    "Here’s how the calculations work:\n",
    "\n",
    "- `var << 0` shifts `var` by 0 positions to the left, which has no effect, so it remains 2.\n",
    "\n",
    "- `var << 1` shifts `var` by 1 position to the left, effectively multiplying it by 2, so it \n",
    "becomes 4.\n",
    "\n",
    "- `var << 2` shifts `var` by 2 positions to the left, effectively multiplying it by 4, so it becomes 8.\n",
    "\n",
    "- `var << 3` shifts `var` by 3 positions to the left, effectively multiplying it by 8, so it becomes 16.\n",
    "\n",
    "- `var << 4` shifts `var` by 4 positions to the left, effectively multiplying it by 16, so it becomes 32.\n",
    "\n",
    "- `var << 5` shifts `var` by 5 positions to the left, effectively multiplying it by 32, so it becomes 64."
   ]
  },
  {
   "cell_type": "code",
   "execution_count": 5,
   "id": "9f623db9-d901-479c-b568-2c1b424e8359",
   "metadata": {},
   "outputs": [
    {
     "name": "stdout",
     "output_type": "stream",
     "text": [
      "var =  2\n",
      "var =  4\n",
      "var =  8\n",
      "var =  16\n",
      "var =  32\n",
      "var =  64\n"
     ]
    }
   ],
   "source": [
    "var = 2;\n",
    "print(\"var = \", var<<0) \n",
    "print(\"var = \", var<<1) \n",
    "print(\"var = \", var<<2) \n",
    "print(\"var = \", var<<3) \n",
    "print(\"var = \", var<<4) \n",
    "print(\"var = \", var<<5)"
   ]
  },
  {
   "cell_type": "raw",
   "id": "3f6cee98-46d5-4e44-8c21-7d9af0217fcc",
   "metadata": {},
   "source": [
    "9.\tTIME TO REACH HOME\n",
    "Sam left his home at 05:43 AM and ran 4 km at a slow speed. At slow speed Sam takes 9:32 min for each km. Thereafter, he speeded up and ran for 3 km taking 7:12 minutes for each km. He ran another 2.5 km at slow speed. Write a python program to find at what time he will reach home for breakfast."
   ]
  },
  {
   "cell_type": "code",
   "execution_count": 6,
   "id": "6aab3094-f917-48c0-a89d-9117941d748f",
   "metadata": {},
   "outputs": [
    {
     "name": "stdout",
     "output_type": "stream",
     "text": [
      "Sam will reach home at =  7.12\n"
     ]
    }
   ],
   "source": [
    "import math\n",
    "startTimen = (5*60 + 43)\n",
    "slowTime1 = 4 * (9*60 +32)\n",
    "fastTime = 3*(7*60+12)\n",
    "slowTime2 = 2.5*(9*60+32)\n",
    "totalTime = (slowTime1+fastTime+slowTime2) # in seconds\n",
    "totalTimeInMins = math.ceil(totalTime/60) \n",
    "timeWhenReach = startTimen + totalTimeInMins #in mins \n",
    "print(\"Sam will reach home at = \" ,format(timeWhenReach/60,\".2f\"))"
   ]
  },
  {
   "cell_type": "raw",
   "id": "a93f1868-8807-4abf-9682-0730834d09e4",
   "metadata": {},
   "source": [
    "10.\tGIFT CARD REEDEMPTION\n",
    "This program will calculate a restaurant tab for a couple with a gift certificate, with a restaurant tax of 18%. The couple will enter the items for person 1 and person 2 along with the gift certificate. The program should find the total cost of the order, restaurant tax . A negative amount indicates the amount left on the gift certificate. The sample execution is shown below:\n"
   ]
  },
  {
   "cell_type": "code",
   "execution_count": 10,
   "id": "ddfdfcd1-9a33-4abf-b67b-4f70fe6b72ad",
   "metadata": {},
   "outputs": [
    {
     "name": "stdin",
     "output_type": "stream",
     "text": [
      "Enter item for person 1:  honey\n",
      "Enter the price of honey:  20\n",
      "Enter item for person 2:  chilli\n",
      "Enter the price of chilli:  10\n",
      "Enter the gift certificate amount:  50\n"
     ]
    },
    {
     "name": "stdout",
     "output_type": "stream",
     "text": [
      "Total cost: $30.00\n",
      "Restaurant tax (8%): $2.40\n",
      "Remaining amount on the gift certificate: $17.60\n"
     ]
    }
   ],
   "source": [
    "# Function to calculate the restaurant tab\n",
    "def calculate_tab():\n",
    " # Get input from person 1\n",
    " person1_item = input(\"Enter item for person 1: \")\n",
    " person1_price = float(input(f\"Enter the price of {person1_item}: \"))\n",
    " # Get input from person 2\n",
    " person2_item = input(\"Enter item for person 2: \")\n",
    " person2_price = float(input(f\"Enter the price of {person2_item}: \"))\n",
    " # Get the gift certificate amount\n",
    " gift_certificate = float(input(\"Enter the gift certificate amount: \"))\n",
    " # Calculate the total cost\n",
    " total_cost = person1_price + person2_price\n",
    " # Calculate the restaurant tax (8%)\n",
    " tax_rate = 0.08\n",
    " restaurant_tax = total_cost * tax_rate\n",
    "# Calculate the remaining amount on the gift certificate\n",
    " remaining_amount = gift_certificate - total_cost - restaurant_tax\n",
    " # Display the results\n",
    " print(f\"Total cost: ${total_cost:.2f}\")\n",
    " print(f\"Restaurant tax (8%): ${restaurant_tax:.2f}\")\n",
    " \n",
    " if remaining_amount >= 0:\n",
    "     print(f\"Remaining amount on the gift certificate: ${remaining_amount:.2f}\")\n",
    " else:\n",
    "     print(f\"You owe an additional ${abs(remaining_amount):.2f}.\")\n",
    "# Call the f)unction to calculate the tab\n",
    "calculate_tab()"
   ]
  },
  {
   "cell_type": "raw",
   "id": "b373a873-96bd-44c2-9a19-0273c5516efa",
   "metadata": {},
   "source": [
    "11.\tFind Error in the below program\n",
    "def calculateArea(radius): \n",
    " PI = 3.1416\n",
    " Print(PI * radius * radius)\n",
    "\n",
    "circle_radius = 5 \n",
    "calculateArea(circle_radius)\n"
   ]
  },
  {
   "cell_type": "code",
   "execution_count": 11,
   "id": "6c682512-be1a-4ad9-81e5-6446c6e90b15",
   "metadata": {},
   "outputs": [
    {
     "ename": "NameError",
     "evalue": "name 'Print' is not defined",
     "output_type": "error",
     "traceback": [
      "\u001b[1;31m---------------------------------------------------------------------------\u001b[0m",
      "\u001b[1;31mNameError\u001b[0m                                 Traceback (most recent call last)",
      "Cell \u001b[1;32mIn[11], line 6\u001b[0m\n\u001b[0;32m      3\u001b[0m  Print(PI \u001b[38;5;241m*\u001b[39m radius \u001b[38;5;241m*\u001b[39m radius)\n\u001b[0;32m      5\u001b[0m circle_radius \u001b[38;5;241m=\u001b[39m \u001b[38;5;241m5\u001b[39m \n\u001b[1;32m----> 6\u001b[0m \u001b[43mcalculateArea\u001b[49m\u001b[43m(\u001b[49m\u001b[43mcircle_radius\u001b[49m\u001b[43m)\u001b[49m\n",
      "Cell \u001b[1;32mIn[11], line 3\u001b[0m, in \u001b[0;36mcalculateArea\u001b[1;34m(radius)\u001b[0m\n\u001b[0;32m      1\u001b[0m \u001b[38;5;28;01mdef\u001b[39;00m \u001b[38;5;21mcalculateArea\u001b[39m(radius): \n\u001b[0;32m      2\u001b[0m  PI \u001b[38;5;241m=\u001b[39m \u001b[38;5;241m3.1416\u001b[39m\n\u001b[1;32m----> 3\u001b[0m  \u001b[43mPrint\u001b[49m(PI \u001b[38;5;241m*\u001b[39m radius \u001b[38;5;241m*\u001b[39m radius)\n",
      "\u001b[1;31mNameError\u001b[0m: name 'Print' is not defined"
     ]
    }
   ],
   "source": [
    "def calculateArea(radius): \n",
    " PI = 3.1416\n",
    " Print(PI * radius * radius)\n",
    "\n",
    "circle_radius = 5 \n",
    "calculateArea(circle_radius)"
   ]
  },
  {
   "cell_type": "raw",
   "id": "b0b530cc-1062-4292-a7f7-143dcf076682",
   "metadata": {},
   "source": [
    "12.\tWhat is the output of print 0.1 + 0.2 == 0.3?"
   ]
  },
  {
   "cell_type": "code",
   "execution_count": 12,
   "id": "823e773b-ad26-4bb2-9340-55ef17b7a1b1",
   "metadata": {},
   "outputs": [
    {
     "ename": "SyntaxError",
     "evalue": "Missing parentheses in call to 'print'. Did you mean print(...)? (1662440739.py, line 1)",
     "output_type": "error",
     "traceback": [
      "\u001b[1;36m  Cell \u001b[1;32mIn[12], line 1\u001b[1;36m\u001b[0m\n\u001b[1;33m    print 0.1 + 0.2 == 0.3\u001b[0m\n\u001b[1;37m    ^\u001b[0m\n\u001b[1;31mSyntaxError\u001b[0m\u001b[1;31m:\u001b[0m Missing parentheses in call to 'print'. Did you mean print(...)?\n"
     ]
    }
   ],
   "source": [
    "print 0.1 + 0.2 == 0.3"
   ]
  },
  {
   "cell_type": "code",
   "execution_count": null,
   "id": "ba89abfd-1145-44a4-b091-8bdc0db36063",
   "metadata": {},
   "outputs": [],
   "source": []
  }
 ],
 "metadata": {
  "kernelspec": {
   "display_name": "Python 3 (ipykernel)",
   "language": "python",
   "name": "python3"
  },
  "language_info": {
   "codemirror_mode": {
    "name": "ipython",
    "version": 3
   },
   "file_extension": ".py",
   "mimetype": "text/x-python",
   "name": "python",
   "nbconvert_exporter": "python",
   "pygments_lexer": "ipython3",
   "version": "3.11.4"
  }
 },
 "nbformat": 4,
 "nbformat_minor": 5
}
