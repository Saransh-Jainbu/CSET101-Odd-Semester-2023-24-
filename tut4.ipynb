{
 "cells": [
  {
   "cell_type": "markdown",
   "id": "67b55e3c-1369-44d8-b012-08334deb32a3",
   "metadata": {},
   "source": [
    "### Computational Thinking and Programming"
   ]
  },
  {
   "cell_type": "code",
   "execution_count": 5,
   "id": "a0187650-7274-475c-85a6-df3edf3b059e",
   "metadata": {},
   "outputs": [
    {
     "name": "stdout",
     "output_type": "stream",
     "text": [
      "hello\n",
      "hello\n",
      "hello\n",
      "hello\n"
     ]
    }
   ],
   "source": [
    "tick=0\n",
    "while(tick<10):\n",
    "    tick=tick+3\n",
    "    print(\"hello\")\n"
   ]
  },
  {
   "cell_type": "code",
   "execution_count": 2,
   "id": "5e6d8eb1-662d-441c-b0c4-21a4a2c80884",
   "metadata": {},
   "outputs": [
    {
     "name": "stdout",
     "output_type": "stream",
     "text": [
      "22\n"
     ]
    }
   ],
   "source": [
    "a='Hello Bennett Students'\n",
    "i=0\n",
    "while i <len(a):\n",
    "    i+=1\n",
    "    pass\n",
    "print(i)"
   ]
  },
  {
   "cell_type": "code",
   "execution_count": 4,
   "id": "344938a7-58e1-47d7-80d9-df3baef2e039",
   "metadata": {},
   "outputs": [
    {
     "data": {
      "text/plain": [
       "22"
      ]
     },
     "execution_count": 4,
     "metadata": {},
     "output_type": "execute_result"
    }
   ],
   "source": [
    "len('Hello Bennett Students')"
   ]
  },
  {
   "cell_type": "code",
   "execution_count": 6,
   "id": "c4c919b5-9076-419d-8b9e-a73ad8a93380",
   "metadata": {},
   "outputs": [
    {
     "name": "stdout",
     "output_type": "stream",
     "text": [
      "1\n"
     ]
    }
   ],
   "source": [
    "i=0\n",
    "while i<6:\n",
    "    i+=1\n",
    "    print(i)\n",
    "    break\n",
    "else:\n",
    "    print(\"No break\")"
   ]
  },
  {
   "cell_type": "markdown",
   "id": "2d6f0e50-38c2-4af7-bd10-96392feb4893",
   "metadata": {},
   "source": [
    "#### Since the break statement is executed after printing 1, the loop is terminated prematurely, and the else block is not executed. Therefore, the output of this code will be: 1\n"
   ]
  },
  {
   "cell_type": "code",
   "execution_count": 7,
   "id": "776bf8b3-9a58-427b-9fd3-ef90405ae903",
   "metadata": {},
   "outputs": [
    {
     "name": "stdin",
     "output_type": "stream",
     "text": [
      "Enter the name of a month:  May\n"
     ]
    },
    {
     "name": "stdout",
     "output_type": "stream",
     "text": [
      "May has 31 days.\n"
     ]
    }
   ],
   "source": [
    "month_name = input(\"Enter the name of a month: \")\n",
    "\n",
    "if month_name == \"January\":\n",
    "    days = 31\n",
    "elif month_name == \"February\":\n",
    "    days = 28  # Assuming a non-leap year by default\n",
    "elif month_name == \"March\":\n",
    "    days = 31\n",
    "elif month_name == \"April\":\n",
    "    days = 30\n",
    "elif month_name == \"May\":\n",
    "    days = 31\n",
    "elif month_name == \"June\":\n",
    "    days = 30\n",
    "elif month_name == \"July\":\n",
    "    days = 31\n",
    "elif month_name == \"August\":\n",
    "    days = 31\n",
    "elif month_name == \"September\":\n",
    "    days = 30\n",
    "elif month_name == \"October\":\n",
    "    days = 31\n",
    "elif month_name == \"November\":\n",
    "    days = 30\n",
    "elif month_name == \"December\":\n",
    "    days = 31\n",
    "else:\n",
    "    print(\"Invalid month name\")\n",
    "    days = None\n",
    "\n",
    "if days is not None:\n",
    "    print(f\"{month_name} has {days} days.\")\n"
   ]
  },
  {
   "cell_type": "code",
   "execution_count": 10,
   "id": "54b70433-4458-4e99-a089-472039aba882",
   "metadata": {},
   "outputs": [
    {
     "name": "stdin",
     "output_type": "stream",
     "text": [
      " 0001,0010,0011,0000\n"
     ]
    },
    {
     "name": "stdout",
     "output_type": "stream",
     "text": [
      "\n",
      "\n",
      "\n",
      "0000\n"
     ]
    }
   ],
   "source": [
    "items=[]\n",
    "num=[x for x in input().split(',')]\n",
    "for p in num:\n",
    "    x=int(p,2)\n",
    "    if not x%5:\n",
    "        items.append(p)\n",
    "    print(','.join(items))\n"
   ]
  },
  {
   "cell_type": "code",
   "execution_count": 13,
   "id": "c354ba4f-6cb3-4b8e-bff0-d2f99871c7d3",
   "metadata": {},
   "outputs": [
    {
     "name": "stdin",
     "output_type": "stream",
     "text": [
      " 0001,0011,0101,1100\n"
     ]
    },
    {
     "name": "stdout",
     "output_type": "stream",
     "text": [
      "\n",
      "\n",
      "0101\n",
      "0101\n"
     ]
    }
   ],
   "source": [
    "items=[]\n",
    "num=[x for x in input().split(',')]\n",
    "for p in num:\n",
    "    x=int(p,2)\n",
    "    if not x%5:\n",
    "        items.append(p)\n",
    "    print(','.join(items))"
   ]
  },
  {
   "cell_type": "code",
   "execution_count": 14,
   "id": "e8a15a08-3285-4ce0-b75b-22f0247c3bbf",
   "metadata": {},
   "outputs": [
    {
     "name": "stdin",
     "output_type": "stream",
     "text": [
      " 330\n",
      " 300\n"
     ]
    },
    {
     "name": "stdout",
     "output_type": "stream",
     "text": [
      "A\n"
     ]
    }
   ],
   "source": [
    "a=int(input())\n",
    "b=int(input())\n",
    "print(\"A\") if a>b else print(\"=\") if a==b else print(\"B\")"
   ]
  },
  {
   "cell_type": "code",
   "execution_count": 15,
   "id": "33b10311-771a-4e89-850e-03dfb3221cc2",
   "metadata": {},
   "outputs": [
    {
     "name": "stdin",
     "output_type": "stream",
     "text": [
      " 300\n",
      " 300\n"
     ]
    },
    {
     "name": "stdout",
     "output_type": "stream",
     "text": [
      "=\n"
     ]
    }
   ],
   "source": [
    "a=int(input())\n",
    "b=int(input())\n",
    "print(\"A\") if a>b else print(\"=\") if a==b else print(\"B\")"
   ]
  },
  {
   "cell_type": "code",
   "execution_count": 16,
   "id": "1c9ba15f-1a97-4984-b490-bfc9a0f9e27e",
   "metadata": {},
   "outputs": [
    {
     "name": "stdin",
     "output_type": "stream",
     "text": [
      " 215\n",
      " 300\n"
     ]
    },
    {
     "name": "stdout",
     "output_type": "stream",
     "text": [
      "B\n"
     ]
    }
   ],
   "source": [
    "a=int(input())\n",
    "b=int(input())\n",
    "print(\"A\") if a>b else print(\"=\") if a==b else print(\"B\")\n"
   ]
  },
  {
   "cell_type": "code",
   "execution_count": 17,
   "id": "2733e291-2298-49da-944c-55e8c34c288e",
   "metadata": {},
   "outputs": [
    {
     "name": "stdout",
     "output_type": "stream",
     "text": [
      "Type of 1452: <class 'int'>\n",
      "Type of 10.23: <class 'float'>\n",
      "Type of (1+5j): <class 'complex'>\n",
      "Type of True: <class 'bool'>\n",
      "Type of Bennett: <class 'str'>\n",
      "Type of (0, 3): <class 'tuple'>\n",
      "Type of [5, 10]: <class 'list'>\n",
      "Type of {'class': 'B.tech', 'Subject': 'Python'}: <class 'dict'>\n"
     ]
    }
   ],
   "source": [
    "datalist = [1452, 10.23, 1+5j, True, 'Bennett', (0, 3), [5, 10], {\"class\": 'B.tech', \"Subject\": 'Python'}]\n",
    "\n",
    "for item in datalist:\n",
    "    print(f'Type of {item}: {type(item)}')\n"
   ]
  },
  {
   "cell_type": "code",
   "execution_count": 18,
   "id": "a4920055-acee-4527-9733-50386dcd443d",
   "metadata": {},
   "outputs": [
    {
     "name": "stdout",
     "output_type": "stream",
     "text": [
      "3\n",
      "[1, 2, 4, 5]\n"
     ]
    }
   ],
   "source": [
    "ListA=[1,2,3,4,5]\n",
    "removed_element=ListA.pop(2)\n",
    "print(removed_element)\n",
    "print(ListA)"
   ]
  },
  {
   "cell_type": "code",
   "execution_count": 22,
   "id": "4f14d0ac-5645-4384-a7d8-c9af2cf11e72",
   "metadata": {},
   "outputs": [
    {
     "name": "stdout",
     "output_type": "stream",
     "text": [
      "fizzbuzz\n",
      "fizz\n",
      "buzz\n",
      "fizz\n",
      "fizz\n",
      "buzz\n",
      "fizz\n",
      "fizzbuzz\n",
      "15\n"
     ]
    }
   ],
   "source": [
    "for fizzbuzz in range(16):\n",
    "    if fizzbuzz % 3 ==0 and fizzbuzz % 5 ==0:\n",
    "        print(\"fizzbuzz\")\n",
    "        continue\n",
    "    elif fizzbuzz % 3 ==0:\n",
    "        print(\"fizz\")\n",
    "        continue\n",
    "    elif fizzbuzz % 5 == 0:\n",
    "        print(\"buzz\")\n",
    "        continue\n",
    "print(fizzbuzz)\n"
   ]
  },
  {
   "cell_type": "code",
   "execution_count": 23,
   "id": "829d9198-b5f5-43a2-8b1a-c58e278653b5",
   "metadata": {},
   "outputs": [
    {
     "name": "stdout",
     "output_type": "stream",
     "text": [
      "5\n",
      "3\n",
      "2\n",
      "1\n"
     ]
    }
   ],
   "source": [
    "i=0\n",
    "a=[5,4,3,2,1]\n",
    "while i<len(a):\n",
    "    if a[i]==4:\n",
    "        i+=1\n",
    "        continue\n",
    "    print(a[i])\n",
    "    i+=1\n"
   ]
  },
  {
   "cell_type": "code",
   "execution_count": 25,
   "id": "0984c6af-bb62-4399-a5bd-bab2fb7f20f4",
   "metadata": {},
   "outputs": [
    {
     "name": "stdin",
     "output_type": "stream",
     "text": [
      "enter any number 123\n"
     ]
    },
    {
     "name": "stdout",
     "output_type": "stream",
     "text": [
      "Middle digit is 2\n"
     ]
    }
   ],
   "source": [
    "num1=input(\"enter any number\")\n",
    "l=len(num1)\n",
    "if l!=3:\n",
    "    print(\"Enter three digit number\")\n",
    "else:\n",
    "    print(\"Middle digit is\",(int(num1)%100//10))"
   ]
  },
  {
   "cell_type": "code",
   "execution_count": 27,
   "id": "f3061320-d832-4efc-b61e-6975e2f67ce8",
   "metadata": {},
   "outputs": [
    {
     "name": "stdin",
     "output_type": "stream",
     "text": [
      "enter any number 1234\n"
     ]
    },
    {
     "name": "stdout",
     "output_type": "stream",
     "text": [
      "Enter three digit number\n"
     ]
    }
   ],
   "source": [
    "num1=input(\"enter any number\")\n",
    "l=len(num1)\n",
    "if l!=3:\n",
    "    print(\"Enter three digit number\")\n",
    "else:\n",
    "    print(\"Middle digit is\",(int(num1)%100//10))"
   ]
  },
  {
   "cell_type": "code",
   "execution_count": 28,
   "id": "2b4d126e-6cb9-4afd-9c97-636380548d2c",
   "metadata": {},
   "outputs": [
    {
     "name": "stdin",
     "output_type": "stream",
     "text": [
      " Welcome to Bennett\n"
     ]
    },
    {
     "name": "stdout",
     "output_type": "stream",
     "text": [
      "ttenneB ot emocleW\n",
      "\n"
     ]
    }
   ],
   "source": [
    "word=input()\n",
    "for char in range(len(word)-1,-1,-1):\n",
    "    print(word[char],end=\"\")\n",
    "print(\"\\n\")"
   ]
  },
  {
   "cell_type": "code",
   "execution_count": 29,
   "id": "3452731e-95f0-47c6-9741-aa5f7efbbb76",
   "metadata": {},
   "outputs": [
    {
     "name": "stdout",
     "output_type": "stream",
     "text": [
      "4\n",
      "5\n"
     ]
    }
   ],
   "source": [
    "numbers=(1,2,3,4,5,6,7,8,9)\n",
    "count1=0\n",
    "count2=0\n",
    "for x in numbers:\n",
    "    if not x%2:\n",
    "        count1+=1\n",
    "    else:\n",
    "        count2+=1\n",
    "print(count1)\n",
    "print(count2)"
   ]
  },
  {
   "cell_type": "code",
   "execution_count": null,
   "id": "8b7fcdaa-9210-471d-8c0b-65fe0db3a0e4",
   "metadata": {},
   "outputs": [],
   "source": []
  }
 ],
 "metadata": {
  "kernelspec": {
   "display_name": "Python 3 (ipykernel)",
   "language": "python",
   "name": "python3"
  },
  "language_info": {
   "codemirror_mode": {
    "name": "ipython",
    "version": 3
   },
   "file_extension": ".py",
   "mimetype": "text/x-python",
   "name": "python",
   "nbconvert_exporter": "python",
   "pygments_lexer": "ipython3",
   "version": "3.11.4"
  }
 },
 "nbformat": 4,
 "nbformat_minor": 5
}
