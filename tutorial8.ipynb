{
 "cells": [
  {
   "cell_type": "code",
   "execution_count": 4,
   "id": "2878d2ac-ddcd-4d30-9e3f-fc78d3e479c9",
   "metadata": {},
   "outputs": [
    {
     "data": {
      "text/plain": [
       "<bound method Engine.runAndWait of <pyttsx3.engine.Engine object at 0x000001DFFC49BA90>>"
      ]
     },
     "execution_count": 4,
     "metadata": {},
     "output_type": "execute_result"
    }
   ],
   "source": [
    "import pyttsx3\n",
    "reader=pyttsx3.init()\n",
    "reader.say(\"welcome to india\")\n",
    "reader.runAndWait"
   ]
  },
  {
   "cell_type": "code",
   "execution_count": 1,
   "id": "c7fd0ed6-dcce-4d7d-8018-e868984a3ba7",
   "metadata": {},
   "outputs": [
    {
     "ename": "SyntaxError",
     "evalue": "invalid character '“' (U+201C) (11306093.py, line 2)",
     "output_type": "error",
     "traceback": [
      "\u001b[1;36m  Cell \u001b[1;32mIn[1], line 2\u001b[1;36m\u001b[0m\n\u001b[1;33m    word=input(“Please enter two words: \")\u001b[0m\n\u001b[1;37m               ^\u001b[0m\n\u001b[1;31mSyntaxError\u001b[0m\u001b[1;31m:\u001b[0m invalid character '“' (U+201C)\n"
     ]
    }
   ],
   "source": [
    "#### Question 1 ####\n",
    "word=input(“Please enter two words: \")\n",
    "wordl=word\n",
    "number=len(word)\n",
    "space=\"/\"\n",
    "for i in range(number):\n",
    "    if(word[i]==\" \"):\n",
    "        wordl[i]=space\n",
    "\n",
    "print(wordl)"
   ]
  },
  {
   "cell_type": "code",
   "execution_count": 3,
   "id": "bd721ed6-0b0d-4281-a7cd-46602f896724",
   "metadata": {},
   "outputs": [
    {
     "name": "stdin",
     "output_type": "stream",
     "text": [
      "Please enter two words:  ashhh\n"
     ]
    },
    {
     "name": "stdout",
     "output_type": "stream",
     "text": [
      "ashhh\n"
     ]
    }
   ],
   "source": [
    "word = input(\"Please enter two words: \")\n",
    "word_list = list(word)  # Convert the string to a list of characters\n",
    "number = len(word)\n",
    "space = \"/\"\n",
    "\n",
    "for i in range(number):\n",
    "    if word_list[i] == \" \":\n",
    "        word_list[i] = space\n",
    "\n",
    "new_word = \"\".join(word_list)  # Convert the list back to a string\n",
    "print(new_word)\n",
    "\n"
   ]
  },
  {
   "cell_type": "code",
   "execution_count": null,
   "id": "d9911bad-4c48-416b-a4a7-17384cdab334",
   "metadata": {},
   "outputs": [],
   "source": []
  }
 ],
 "metadata": {
  "kernelspec": {
   "display_name": "Python 3 (ipykernel)",
   "language": "python",
   "name": "python3"
  },
  "language_info": {
   "codemirror_mode": {
    "name": "ipython",
    "version": 3
   },
   "file_extension": ".py",
   "mimetype": "text/x-python",
   "name": "python",
   "nbconvert_exporter": "python",
   "pygments_lexer": "ipython3",
   "version": "3.11.4"
  }
 },
 "nbformat": 4,
 "nbformat_minor": 5
}
